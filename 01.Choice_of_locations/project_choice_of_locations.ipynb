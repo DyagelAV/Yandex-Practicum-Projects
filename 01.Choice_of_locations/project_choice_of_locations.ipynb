{
 "cells": [
  {
   "cell_type": "markdown",
   "metadata": {
    "toc": true
   },
   "source": [
    "<h1>Содержание<span class=\"tocSkip\"></span></h1>\n",
    "<div class=\"toc\"><ul class=\"toc-item\"><li><span><a href=\"#Загрузка-и-подготовка-данных\" data-toc-modified-id=\"Загрузка-и-подготовка-данных-1\"><span class=\"toc-item-num\">1&nbsp;&nbsp;</span>Загрузка и подготовка данных</a></span><ul class=\"toc-item\"><li><span><a href=\"#Ознакомление-с-данными\" data-toc-modified-id=\"Ознакомление-с-данными-1.1\"><span class=\"toc-item-num\">1.1&nbsp;&nbsp;</span>Ознакомление с данными</a></span></li><li><span><a href=\"#Исследование-данных\" data-toc-modified-id=\"Исследование-данных-1.2\"><span class=\"toc-item-num\">1.2&nbsp;&nbsp;</span>Исследование данных</a></span><ul class=\"toc-item\"><li><span><a href=\"#Первый-регион\" data-toc-modified-id=\"Первый-регион-1.2.1\"><span class=\"toc-item-num\">1.2.1&nbsp;&nbsp;</span>Первый регион</a></span></li><li><span><a href=\"#Второй-регион\" data-toc-modified-id=\"Второй-регион-1.2.2\"><span class=\"toc-item-num\">1.2.2&nbsp;&nbsp;</span>Второй регион</a></span></li><li><span><a href=\"#Третий-регион\" data-toc-modified-id=\"Третий-регион-1.2.3\"><span class=\"toc-item-num\">1.2.3&nbsp;&nbsp;</span>Третий регион</a></span></li></ul></li><li><span><a href=\"#Подготовка-данных-к-обучению\" data-toc-modified-id=\"Подготовка-данных-к-обучению-1.3\"><span class=\"toc-item-num\">1.3&nbsp;&nbsp;</span>Подготовка данных к обучению</a></span></li></ul></li><li><span><a href=\"#Обучение-и-проверка-модели\" data-toc-modified-id=\"Обучение-и-проверка-модели-2\"><span class=\"toc-item-num\">2&nbsp;&nbsp;</span>Обучение и проверка модели</a></span></li><li><span><a href=\"#Подготовка-к-расчёту-прибыли\" data-toc-modified-id=\"Подготовка-к-расчёту-прибыли-3\"><span class=\"toc-item-num\">3&nbsp;&nbsp;</span>Подготовка к расчёту прибыли</a></span></li><li><span><a href=\"#Расчёт-прибыли-и-рисков\" data-toc-modified-id=\"Расчёт-прибыли-и-рисков-4\"><span class=\"toc-item-num\">4&nbsp;&nbsp;</span>Расчёт прибыли и рисков</a></span></li><li><span><a href=\"#Общий-вывод\" data-toc-modified-id=\"Общий-вывод-5\"><span class=\"toc-item-num\">5&nbsp;&nbsp;</span>Общий вывод</a></span></li><li><span><a href=\"#Чек-лист-готовности-проекта\" data-toc-modified-id=\"Чек-лист-готовности-проекта-6\"><span class=\"toc-item-num\">6&nbsp;&nbsp;</span>Чек-лист готовности проекта</a></span></li></ul></div>"
   ]
  },
  {
   "cell_type": "markdown",
   "metadata": {},
   "source": [
    "# Выбор локации для скважины"
   ]
  },
  {
   "cell_type": "markdown",
   "metadata": {},
   "source": [
    "Допустим, вы работаете в добывающей компании «ГлавРосГосНефть». Нужно решить, где бурить новую скважину.\n",
    "\n",
    "Вам предоставлены пробы нефти в трёх регионах: в каждом 10 000 месторождений, где измерили качество нефти и объём её запасов. Постройте модель машинного обучения, которая поможет определить регион, где добыча принесёт наибольшую прибыль. Проанализируйте возможную прибыль и риски техникой *Bootstrap.*\n",
    "\n",
    "Шаги для выбора локации:\n",
    "\n",
    "- В избранном регионе ищут месторождения, для каждого определяют значения признаков;\n",
    "- Строят модель и оценивают объём запасов;\n",
    "- Выбирают месторождения с самым высокими оценками значений. Количество месторождений зависит от бюджета компании и стоимости разработки одной скважины;\n",
    "- Прибыль равна суммарной прибыли отобранных месторождений."
   ]
  },
  {
   "cell_type": "markdown",
   "metadata": {},
   "source": [
    "**Признаки**\n",
    "- id — уникальный идентификатор скважины;\n",
    "- f0, f1, f2 — три признака точек (описание не представлено);\n",
    "\n",
    "**Целевой признак**\n",
    "- product — объём запасов в скважине (тыс. баррелей)."
   ]
  },
  {
   "cell_type": "code",
   "execution_count": 1,
   "metadata": {
    "tags": []
   },
   "outputs": [],
   "source": [
    "import pandas as pd\n",
    "import numpy as np\n",
    "import math\n",
    "\n",
    "import seaborn as sns\n",
    "import matplotlib.pyplot as plt\n",
    "from scipy import stats as st\n",
    "\n",
    "from sklearn.model_selection import train_test_split\n",
    "from sklearn.preprocessing import StandardScaler\n",
    "from sklearn.linear_model import LinearRegression\n",
    "from sklearn.metrics import mean_squared_error, r2_score"
   ]
  },
  {
   "cell_type": "markdown",
   "metadata": {},
   "source": [
    "## Загрузка и подготовка данных"
   ]
  },
  {
   "cell_type": "markdown",
   "metadata": {},
   "source": [
    "### Ознакомление с данными"
   ]
  },
  {
   "cell_type": "code",
   "execution_count": 2,
   "metadata": {
    "tags": []
   },
   "outputs": [],
   "source": [
    "try:\n",
    "    data_0 = pd.read_csv('../datasets/geo_data_0.csv')\n",
    "    data_1 = pd.read_csv('../datasets/geo_data_1.csv')\n",
    "    data_2 = pd.read_csv('../datasets/geo_data_2.csv')\n",
    "except:\n",
    "    print('Не удалось прочитать файл')"
   ]
  },
  {
   "cell_type": "markdown",
   "metadata": {},
   "source": [
    "Посмотрим первые 5 строк в каждом датафрейме"
   ]
  },
  {
   "cell_type": "code",
   "execution_count": 3,
   "metadata": {
    "tags": []
   },
   "outputs": [
    {
     "data": {
      "text/html": [
       "<div>\n",
       "<style scoped>\n",
       "    .dataframe tbody tr th:only-of-type {\n",
       "        vertical-align: middle;\n",
       "    }\n",
       "\n",
       "    .dataframe tbody tr th {\n",
       "        vertical-align: top;\n",
       "    }\n",
       "\n",
       "    .dataframe thead th {\n",
       "        text-align: right;\n",
       "    }\n",
       "</style>\n",
       "<table border=\"1\" class=\"dataframe\">\n",
       "  <thead>\n",
       "    <tr style=\"text-align: right;\">\n",
       "      <th></th>\n",
       "      <th>id</th>\n",
       "      <th>f0</th>\n",
       "      <th>f1</th>\n",
       "      <th>f2</th>\n",
       "      <th>product</th>\n",
       "    </tr>\n",
       "  </thead>\n",
       "  <tbody>\n",
       "    <tr>\n",
       "      <th>0</th>\n",
       "      <td>txEyH</td>\n",
       "      <td>0.705745</td>\n",
       "      <td>-0.497823</td>\n",
       "      <td>1.221170</td>\n",
       "      <td>105.280062</td>\n",
       "    </tr>\n",
       "    <tr>\n",
       "      <th>1</th>\n",
       "      <td>2acmU</td>\n",
       "      <td>1.334711</td>\n",
       "      <td>-0.340164</td>\n",
       "      <td>4.365080</td>\n",
       "      <td>73.037750</td>\n",
       "    </tr>\n",
       "    <tr>\n",
       "      <th>2</th>\n",
       "      <td>409Wp</td>\n",
       "      <td>1.022732</td>\n",
       "      <td>0.151990</td>\n",
       "      <td>1.419926</td>\n",
       "      <td>85.265647</td>\n",
       "    </tr>\n",
       "    <tr>\n",
       "      <th>3</th>\n",
       "      <td>iJLyR</td>\n",
       "      <td>-0.032172</td>\n",
       "      <td>0.139033</td>\n",
       "      <td>2.978566</td>\n",
       "      <td>168.620776</td>\n",
       "    </tr>\n",
       "    <tr>\n",
       "      <th>4</th>\n",
       "      <td>Xdl7t</td>\n",
       "      <td>1.988431</td>\n",
       "      <td>0.155413</td>\n",
       "      <td>4.751769</td>\n",
       "      <td>154.036647</td>\n",
       "    </tr>\n",
       "  </tbody>\n",
       "</table>\n",
       "</div>"
      ],
      "text/plain": [
       "      id        f0        f1        f2     product\n",
       "0  txEyH  0.705745 -0.497823  1.221170  105.280062\n",
       "1  2acmU  1.334711 -0.340164  4.365080   73.037750\n",
       "2  409Wp  1.022732  0.151990  1.419926   85.265647\n",
       "3  iJLyR -0.032172  0.139033  2.978566  168.620776\n",
       "4  Xdl7t  1.988431  0.155413  4.751769  154.036647"
      ]
     },
     "metadata": {},
     "output_type": "display_data"
    },
    {
     "data": {
      "text/html": [
       "<div>\n",
       "<style scoped>\n",
       "    .dataframe tbody tr th:only-of-type {\n",
       "        vertical-align: middle;\n",
       "    }\n",
       "\n",
       "    .dataframe tbody tr th {\n",
       "        vertical-align: top;\n",
       "    }\n",
       "\n",
       "    .dataframe thead th {\n",
       "        text-align: right;\n",
       "    }\n",
       "</style>\n",
       "<table border=\"1\" class=\"dataframe\">\n",
       "  <thead>\n",
       "    <tr style=\"text-align: right;\">\n",
       "      <th></th>\n",
       "      <th>id</th>\n",
       "      <th>f0</th>\n",
       "      <th>f1</th>\n",
       "      <th>f2</th>\n",
       "      <th>product</th>\n",
       "    </tr>\n",
       "  </thead>\n",
       "  <tbody>\n",
       "    <tr>\n",
       "      <th>0</th>\n",
       "      <td>kBEdx</td>\n",
       "      <td>-15.001348</td>\n",
       "      <td>-8.276000</td>\n",
       "      <td>-0.005876</td>\n",
       "      <td>3.179103</td>\n",
       "    </tr>\n",
       "    <tr>\n",
       "      <th>1</th>\n",
       "      <td>62mP7</td>\n",
       "      <td>14.272088</td>\n",
       "      <td>-3.475083</td>\n",
       "      <td>0.999183</td>\n",
       "      <td>26.953261</td>\n",
       "    </tr>\n",
       "    <tr>\n",
       "      <th>2</th>\n",
       "      <td>vyE1P</td>\n",
       "      <td>6.263187</td>\n",
       "      <td>-5.948386</td>\n",
       "      <td>5.001160</td>\n",
       "      <td>134.766305</td>\n",
       "    </tr>\n",
       "    <tr>\n",
       "      <th>3</th>\n",
       "      <td>KcrkZ</td>\n",
       "      <td>-13.081196</td>\n",
       "      <td>-11.506057</td>\n",
       "      <td>4.999415</td>\n",
       "      <td>137.945408</td>\n",
       "    </tr>\n",
       "    <tr>\n",
       "      <th>4</th>\n",
       "      <td>AHL4O</td>\n",
       "      <td>12.702195</td>\n",
       "      <td>-8.147433</td>\n",
       "      <td>5.004363</td>\n",
       "      <td>134.766305</td>\n",
       "    </tr>\n",
       "  </tbody>\n",
       "</table>\n",
       "</div>"
      ],
      "text/plain": [
       "      id         f0         f1        f2     product\n",
       "0  kBEdx -15.001348  -8.276000 -0.005876    3.179103\n",
       "1  62mP7  14.272088  -3.475083  0.999183   26.953261\n",
       "2  vyE1P   6.263187  -5.948386  5.001160  134.766305\n",
       "3  KcrkZ -13.081196 -11.506057  4.999415  137.945408\n",
       "4  AHL4O  12.702195  -8.147433  5.004363  134.766305"
      ]
     },
     "metadata": {},
     "output_type": "display_data"
    },
    {
     "data": {
      "text/html": [
       "<div>\n",
       "<style scoped>\n",
       "    .dataframe tbody tr th:only-of-type {\n",
       "        vertical-align: middle;\n",
       "    }\n",
       "\n",
       "    .dataframe tbody tr th {\n",
       "        vertical-align: top;\n",
       "    }\n",
       "\n",
       "    .dataframe thead th {\n",
       "        text-align: right;\n",
       "    }\n",
       "</style>\n",
       "<table border=\"1\" class=\"dataframe\">\n",
       "  <thead>\n",
       "    <tr style=\"text-align: right;\">\n",
       "      <th></th>\n",
       "      <th>id</th>\n",
       "      <th>f0</th>\n",
       "      <th>f1</th>\n",
       "      <th>f2</th>\n",
       "      <th>product</th>\n",
       "    </tr>\n",
       "  </thead>\n",
       "  <tbody>\n",
       "    <tr>\n",
       "      <th>0</th>\n",
       "      <td>fwXo0</td>\n",
       "      <td>-1.146987</td>\n",
       "      <td>0.963328</td>\n",
       "      <td>-0.828965</td>\n",
       "      <td>27.758673</td>\n",
       "    </tr>\n",
       "    <tr>\n",
       "      <th>1</th>\n",
       "      <td>WJtFt</td>\n",
       "      <td>0.262778</td>\n",
       "      <td>0.269839</td>\n",
       "      <td>-2.530187</td>\n",
       "      <td>56.069697</td>\n",
       "    </tr>\n",
       "    <tr>\n",
       "      <th>2</th>\n",
       "      <td>ovLUW</td>\n",
       "      <td>0.194587</td>\n",
       "      <td>0.289035</td>\n",
       "      <td>-5.586433</td>\n",
       "      <td>62.871910</td>\n",
       "    </tr>\n",
       "    <tr>\n",
       "      <th>3</th>\n",
       "      <td>q6cA6</td>\n",
       "      <td>2.236060</td>\n",
       "      <td>-0.553760</td>\n",
       "      <td>0.930038</td>\n",
       "      <td>114.572842</td>\n",
       "    </tr>\n",
       "    <tr>\n",
       "      <th>4</th>\n",
       "      <td>WPMUX</td>\n",
       "      <td>-0.515993</td>\n",
       "      <td>1.716266</td>\n",
       "      <td>5.899011</td>\n",
       "      <td>149.600746</td>\n",
       "    </tr>\n",
       "  </tbody>\n",
       "</table>\n",
       "</div>"
      ],
      "text/plain": [
       "      id        f0        f1        f2     product\n",
       "0  fwXo0 -1.146987  0.963328 -0.828965   27.758673\n",
       "1  WJtFt  0.262778  0.269839 -2.530187   56.069697\n",
       "2  ovLUW  0.194587  0.289035 -5.586433   62.871910\n",
       "3  q6cA6  2.236060 -0.553760  0.930038  114.572842\n",
       "4  WPMUX -0.515993  1.716266  5.899011  149.600746"
      ]
     },
     "metadata": {},
     "output_type": "display_data"
    }
   ],
   "source": [
    "display(data_0.head())\n",
    "display()\n",
    "display(data_1.head())\n",
    "display()\n",
    "display(data_2.head())"
   ]
  },
  {
   "cell_type": "markdown",
   "metadata": {},
   "source": [
    "В данных всего 5 столбцов, прчием столбец ID для задачи ценности не несет. Удалим его (будет выполнено после полного ознакомления с данными). Следующим шагом выведем основную информацию о датафремах."
   ]
  },
  {
   "cell_type": "code",
   "execution_count": 4,
   "metadata": {
    "tags": []
   },
   "outputs": [
    {
     "name": "stdout",
     "output_type": "stream",
     "text": [
      "<class 'pandas.core.frame.DataFrame'>\n",
      "RangeIndex: 100000 entries, 0 to 99999\n",
      "Data columns (total 5 columns):\n",
      " #   Column   Non-Null Count   Dtype  \n",
      "---  ------   --------------   -----  \n",
      " 0   id       100000 non-null  object \n",
      " 1   f0       100000 non-null  float64\n",
      " 2   f1       100000 non-null  float64\n",
      " 3   f2       100000 non-null  float64\n",
      " 4   product  100000 non-null  float64\n",
      "dtypes: float64(4), object(1)\n",
      "memory usage: 3.8+ MB\n"
     ]
    },
    {
     "data": {
      "text/plain": [
       "None"
      ]
     },
     "metadata": {},
     "output_type": "display_data"
    },
    {
     "name": "stdout",
     "output_type": "stream",
     "text": [
      "<class 'pandas.core.frame.DataFrame'>\n",
      "RangeIndex: 100000 entries, 0 to 99999\n",
      "Data columns (total 5 columns):\n",
      " #   Column   Non-Null Count   Dtype  \n",
      "---  ------   --------------   -----  \n",
      " 0   id       100000 non-null  object \n",
      " 1   f0       100000 non-null  float64\n",
      " 2   f1       100000 non-null  float64\n",
      " 3   f2       100000 non-null  float64\n",
      " 4   product  100000 non-null  float64\n",
      "dtypes: float64(4), object(1)\n",
      "memory usage: 3.8+ MB\n"
     ]
    },
    {
     "data": {
      "text/plain": [
       "None"
      ]
     },
     "metadata": {},
     "output_type": "display_data"
    },
    {
     "name": "stdout",
     "output_type": "stream",
     "text": [
      "<class 'pandas.core.frame.DataFrame'>\n",
      "RangeIndex: 100000 entries, 0 to 99999\n",
      "Data columns (total 5 columns):\n",
      " #   Column   Non-Null Count   Dtype  \n",
      "---  ------   --------------   -----  \n",
      " 0   id       100000 non-null  object \n",
      " 1   f0       100000 non-null  float64\n",
      " 2   f1       100000 non-null  float64\n",
      " 3   f2       100000 non-null  float64\n",
      " 4   product  100000 non-null  float64\n",
      "dtypes: float64(4), object(1)\n",
      "memory usage: 3.8+ MB\n"
     ]
    },
    {
     "data": {
      "text/plain": [
       "None"
      ]
     },
     "metadata": {},
     "output_type": "display_data"
    }
   ],
   "source": [
    "display(data_0.info())\n",
    "display()\n",
    "display(data_1.info())\n",
    "display()\n",
    "display(data_2.info())"
   ]
  },
  {
   "cell_type": "markdown",
   "metadata": {},
   "source": [
    "Пропусков в данных нет - хорошо. Теперь проверим наличие явных дубликатов."
   ]
  },
  {
   "cell_type": "code",
   "execution_count": 5,
   "metadata": {},
   "outputs": [
    {
     "name": "stdout",
     "output_type": "stream",
     "text": [
      "Количество явных дубликатов для первого датафрейма: 0\n",
      "Количество явных дубликатов для второго датафрейма: 0\n",
      "Количество явных дубликатов для третьего датафрейма: 0\n"
     ]
    }
   ],
   "source": [
    "print('Количество явных дубликатов для первого датафрейма:', data_0.duplicated().sum())\n",
    "print('Количество явных дубликатов для второго датафрейма:', data_1.duplicated().sum())\n",
    "print('Количество явных дубликатов для третьего датафрейма:', data_2.duplicated().sum())\n"
   ]
  },
  {
   "cell_type": "markdown",
   "metadata": {},
   "source": [
    "Отлично, явные дубликаты не найдены. Удалим не информативный столбец ID"
   ]
  },
  {
   "cell_type": "code",
   "execution_count": 6,
   "metadata": {},
   "outputs": [],
   "source": [
    "data_0 = data_0.drop('id', axis=1)\n",
    "data_1 = data_1.drop('id', axis=1)\n",
    "data_2 = data_2.drop('id', axis=1)"
   ]
  },
  {
   "cell_type": "markdown",
   "metadata": {},
   "source": [
    "**Вывод:**\n",
    "- в каждом датафрейме по 100 000 строк;\n",
    "- пропуски в данных отсутствуют;\n",
    "- типы данных не требуют замены;\n",
    "- явные дубликаты отсутствуют;\n",
    "- в данных присутствует столбец ID, который не несет ценности для обучения модели (столбец удален)."
   ]
  },
  {
   "cell_type": "markdown",
   "metadata": {},
   "source": [
    "### Исследование данных"
   ]
  },
  {
   "cell_type": "markdown",
   "metadata": {},
   "source": [
    "Продолжим исследовние данных. Для каждого региона проверим наличие корреляции в данных, а также построим диаграммы размаха (проверим есть ли выбивающиеся знаечения)."
   ]
  },
  {
   "cell_type": "markdown",
   "metadata": {},
   "source": [
    "#### Первый регион"
   ]
  },
  {
   "cell_type": "code",
   "execution_count": 7,
   "metadata": {
    "scrolled": true
   },
   "outputs": [
    {
     "data": {
      "text/html": [
       "<div>\n",
       "<style scoped>\n",
       "    .dataframe tbody tr th:only-of-type {\n",
       "        vertical-align: middle;\n",
       "    }\n",
       "\n",
       "    .dataframe tbody tr th {\n",
       "        vertical-align: top;\n",
       "    }\n",
       "\n",
       "    .dataframe thead th {\n",
       "        text-align: right;\n",
       "    }\n",
       "</style>\n",
       "<table border=\"1\" class=\"dataframe\">\n",
       "  <thead>\n",
       "    <tr style=\"text-align: right;\">\n",
       "      <th></th>\n",
       "      <th>f0</th>\n",
       "      <th>f1</th>\n",
       "      <th>f2</th>\n",
       "      <th>product</th>\n",
       "    </tr>\n",
       "  </thead>\n",
       "  <tbody>\n",
       "    <tr>\n",
       "      <th>count</th>\n",
       "      <td>100000.000000</td>\n",
       "      <td>100000.000000</td>\n",
       "      <td>100000.000000</td>\n",
       "      <td>100000.000000</td>\n",
       "    </tr>\n",
       "    <tr>\n",
       "      <th>mean</th>\n",
       "      <td>0.500419</td>\n",
       "      <td>0.250143</td>\n",
       "      <td>2.502647</td>\n",
       "      <td>92.500000</td>\n",
       "    </tr>\n",
       "    <tr>\n",
       "      <th>std</th>\n",
       "      <td>0.871832</td>\n",
       "      <td>0.504433</td>\n",
       "      <td>3.248248</td>\n",
       "      <td>44.288691</td>\n",
       "    </tr>\n",
       "    <tr>\n",
       "      <th>min</th>\n",
       "      <td>-1.408605</td>\n",
       "      <td>-0.848218</td>\n",
       "      <td>-12.088328</td>\n",
       "      <td>0.000000</td>\n",
       "    </tr>\n",
       "    <tr>\n",
       "      <th>25%</th>\n",
       "      <td>-0.072580</td>\n",
       "      <td>-0.200881</td>\n",
       "      <td>0.287748</td>\n",
       "      <td>56.497507</td>\n",
       "    </tr>\n",
       "    <tr>\n",
       "      <th>50%</th>\n",
       "      <td>0.502360</td>\n",
       "      <td>0.250252</td>\n",
       "      <td>2.515969</td>\n",
       "      <td>91.849972</td>\n",
       "    </tr>\n",
       "    <tr>\n",
       "      <th>75%</th>\n",
       "      <td>1.073581</td>\n",
       "      <td>0.700646</td>\n",
       "      <td>4.715088</td>\n",
       "      <td>128.564089</td>\n",
       "    </tr>\n",
       "    <tr>\n",
       "      <th>max</th>\n",
       "      <td>2.362331</td>\n",
       "      <td>1.343769</td>\n",
       "      <td>16.003790</td>\n",
       "      <td>185.364347</td>\n",
       "    </tr>\n",
       "  </tbody>\n",
       "</table>\n",
       "</div>"
      ],
      "text/plain": [
       "                  f0             f1             f2        product\n",
       "count  100000.000000  100000.000000  100000.000000  100000.000000\n",
       "mean        0.500419       0.250143       2.502647      92.500000\n",
       "std         0.871832       0.504433       3.248248      44.288691\n",
       "min        -1.408605      -0.848218     -12.088328       0.000000\n",
       "25%        -0.072580      -0.200881       0.287748      56.497507\n",
       "50%         0.502360       0.250252       2.515969      91.849972\n",
       "75%         1.073581       0.700646       4.715088     128.564089\n",
       "max         2.362331       1.343769      16.003790     185.364347"
      ]
     },
     "execution_count": 7,
     "metadata": {},
     "output_type": "execute_result"
    }
   ],
   "source": [
    "data_0.describe()"
   ]
  },
  {
   "cell_type": "code",
   "execution_count": 8,
   "metadata": {},
   "outputs": [
    {
     "data": {
      "image/png": "[encoded data removed]",
      "text/plain": [
       "<Figure size 1600x800 with 1 Axes>"
      ]
     },
     "metadata": {},
     "output_type": "display_data"
    }
   ],
   "source": [
    "plt.figure(figsize=(16,8))\n",
    "sns.heatmap(data_0.corr(),  cmap='YlGnBu', annot=True, cbar= False)\n",
    "plt.show()"
   ]
  },
  {
   "cell_type": "markdown",
   "metadata": {
    "tags": []
   },
   "source": [
    "<div class=\"alert alert-success\">\n",
    "<h2> Комментарий ревьюера ✔️ <a class=\"tocSkip\"> </h2>\n",
    "\n",
    "Очень правильное решение посмотреть корреляции. Хотя я бы еще построил диаграммы рассеивания. Признаки можно преобразовать, если есть какая-то выраженная, но нелинейная зависимость, которую мы коэффициентами корреляции Пирсона не выявим, мы можем попытаться преобразовать признаки так, чтобы получить линейную зависимость."
   ]
  },
  {
   "cell_type": "code",
   "execution_count": 9,
   "metadata": {},
   "outputs": [
    {
     "data": {
      "image/png": "[encoded data removed]",
      "text/plain": [
       "<Figure size 2500x1400 with 4 Axes>"
      ]
     },
     "metadata": {},
     "output_type": "display_data"
    }
   ],
   "source": [
    "fig, axes = plt.subplots(2, 2, figsize=(25,14))\n",
    "sns.set_style(\"white\")\n",
    "\n",
    "sns.boxplot(data = data_0, x='f0', ax=axes[0,0])\n",
    "axes[0,0].set_title('Диаграмма размаха признака f0', fontsize=16)\n",
    "axes[0,0].set_xlabel('f0', fontsize=16)\n",
    "\n",
    "\n",
    "sns.boxplot(data = data_0, x='f1', ax=axes[0,1])\n",
    "axes[0,1].set_title('Диаграмма размаха признака f1', fontsize=16)\n",
    "axes[0,1].set_xlabel('f1', fontsize=16)\n",
    "\n",
    "sns.boxplot(data = data_0, x='f2', ax=axes[1,0])\n",
    "axes[1,0].set_title('Диаграмма размаха признака f2', fontsize=16)\n",
    "axes[1,0].set_xlabel('f2', fontsize=16)\n",
    "\n",
    "sns.boxplot(data = data_0, x='product', ax=axes[1,1])\n",
    "axes[1,1].set_title('Диаграмма размаха признака объема запасов', fontsize=16)\n",
    "axes[1,1].set_xlabel('product', fontsize=16)\n",
    "\n",
    "plt.show()\n"
   ]
  },
  {
   "cell_type": "markdown",
   "metadata": {},
   "source": [
    "#### Второй регион"
   ]
  },
  {
   "cell_type": "code",
   "execution_count": 10,
   "metadata": {
    "scrolled": true
   },
   "outputs": [
    {
     "data": {
      "text/html": [
       "<div>\n",
       "<style scoped>\n",
       "    .dataframe tbody tr th:only-of-type {\n",
       "        vertical-align: middle;\n",
       "    }\n",
       "\n",
       "    .dataframe tbody tr th {\n",
       "        vertical-align: top;\n",
       "    }\n",
       "\n",
       "    .dataframe thead th {\n",
       "        text-align: right;\n",
       "    }\n",
       "</style>\n",
       "<table border=\"1\" class=\"dataframe\">\n",
       "  <thead>\n",
       "    <tr style=\"text-align: right;\">\n",
       "      <th></th>\n",
       "      <th>f0</th>\n",
       "      <th>f1</th>\n",
       "      <th>f2</th>\n",
       "      <th>product</th>\n",
       "    </tr>\n",
       "  </thead>\n",
       "  <tbody>\n",
       "    <tr>\n",
       "      <th>count</th>\n",
       "      <td>100000.000000</td>\n",
       "      <td>100000.000000</td>\n",
       "      <td>100000.000000</td>\n",
       "      <td>100000.000000</td>\n",
       "    </tr>\n",
       "    <tr>\n",
       "      <th>mean</th>\n",
       "      <td>1.141296</td>\n",
       "      <td>-4.796579</td>\n",
       "      <td>2.494541</td>\n",
       "      <td>68.825000</td>\n",
       "    </tr>\n",
       "    <tr>\n",
       "      <th>std</th>\n",
       "      <td>8.965932</td>\n",
       "      <td>5.119872</td>\n",
       "      <td>1.703572</td>\n",
       "      <td>45.944423</td>\n",
       "    </tr>\n",
       "    <tr>\n",
       "      <th>min</th>\n",
       "      <td>-31.609576</td>\n",
       "      <td>-26.358598</td>\n",
       "      <td>-0.018144</td>\n",
       "      <td>0.000000</td>\n",
       "    </tr>\n",
       "    <tr>\n",
       "      <th>25%</th>\n",
       "      <td>-6.298551</td>\n",
       "      <td>-8.267985</td>\n",
       "      <td>1.000021</td>\n",
       "      <td>26.953261</td>\n",
       "    </tr>\n",
       "    <tr>\n",
       "      <th>50%</th>\n",
       "      <td>1.153055</td>\n",
       "      <td>-4.813172</td>\n",
       "      <td>2.011479</td>\n",
       "      <td>57.085625</td>\n",
       "    </tr>\n",
       "    <tr>\n",
       "      <th>75%</th>\n",
       "      <td>8.621015</td>\n",
       "      <td>-1.332816</td>\n",
       "      <td>3.999904</td>\n",
       "      <td>107.813044</td>\n",
       "    </tr>\n",
       "    <tr>\n",
       "      <th>max</th>\n",
       "      <td>29.421755</td>\n",
       "      <td>18.734063</td>\n",
       "      <td>5.019721</td>\n",
       "      <td>137.945408</td>\n",
       "    </tr>\n",
       "  </tbody>\n",
       "</table>\n",
       "</div>"
      ],
      "text/plain": [
       "                  f0             f1             f2        product\n",
       "count  100000.000000  100000.000000  100000.000000  100000.000000\n",
       "mean        1.141296      -4.796579       2.494541      68.825000\n",
       "std         8.965932       5.119872       1.703572      45.944423\n",
       "min       -31.609576     -26.358598      -0.018144       0.000000\n",
       "25%        -6.298551      -8.267985       1.000021      26.953261\n",
       "50%         1.153055      -4.813172       2.011479      57.085625\n",
       "75%         8.621015      -1.332816       3.999904     107.813044\n",
       "max        29.421755      18.734063       5.019721     137.945408"
      ]
     },
     "execution_count": 10,
     "metadata": {},
     "output_type": "execute_result"
    }
   ],
   "source": [
    "data_1.describe()"
   ]
  },
  {
   "cell_type": "code",
   "execution_count": 11,
   "metadata": {},
   "outputs": [
    {
     "data": {
      "image/png": "[encoded data removed]",
      "text/plain": [
       "<Figure size 1600x800 with 1 Axes>"
      ]
     },
     "metadata": {},
     "output_type": "display_data"
    }
   ],
   "source": [
    "plt.figure(figsize=(16,8))\n",
    "sns.heatmap(data_1.corr(),  cmap='YlGnBu', annot=True, cbar= False)\n",
    "plt.show()"
   ]
  },
  {
   "cell_type": "code",
   "execution_count": 12,
   "metadata": {},
   "outputs": [
    {
     "data": {
      "image/png": "[encoded data removed]",
      "text/plain": [
       "<Figure size 2500x1400 with 4 Axes>"
      ]
     },
     "metadata": {},
     "output_type": "display_data"
    }
   ],
   "source": [
    "fig, axes = plt.subplots(2, 2, figsize=(25,14))\n",
    "sns.set_style(\"white\")\n",
    "\n",
    "sns.boxplot(data = data_1, x='f0', ax=axes[0,0])\n",
    "axes[0,0].set_title('Диаграмма размаха признака f0', fontsize=16)\n",
    "axes[0,0].set_xlabel('f0', fontsize=16)\n",
    "\n",
    "\n",
    "sns.boxplot(data = data_1, x='f1', ax=axes[0,1])\n",
    "axes[0,1].set_title('Диаграмма размаха признака f1', fontsize=16)\n",
    "axes[0,1].set_xlabel('f1', fontsize=16)\n",
    "\n",
    "sns.boxplot(data = data_1, x='f2', ax=axes[1,0])\n",
    "axes[1,0].set_title('Диаграмма размаха признака f2', fontsize=16)\n",
    "axes[1,0].set_xlabel('f2', fontsize=16)\n",
    "\n",
    "sns.boxplot(data = data_1, x='product', ax=axes[1,1])\n",
    "axes[1,1].set_title('Диаграмма размаха признака объема запасов', fontsize=16)\n",
    "axes[1,1].set_xlabel('product', fontsize=16)\n",
    "\n",
    "plt.show()\n"
   ]
  },
  {
   "cell_type": "markdown",
   "metadata": {},
   "source": [
    "#### Третий регион"
   ]
  },
  {
   "cell_type": "code",
   "execution_count": 13,
   "metadata": {
    "scrolled": true
   },
   "outputs": [
    {
     "data": {
      "text/html": [
       "<div>\n",
       "<style scoped>\n",
       "    .dataframe tbody tr th:only-of-type {\n",
       "        vertical-align: middle;\n",
       "    }\n",
       "\n",
       "    .dataframe tbody tr th {\n",
       "        vertical-align: top;\n",
       "    }\n",
       "\n",
       "    .dataframe thead th {\n",
       "        text-align: right;\n",
       "    }\n",
       "</style>\n",
       "<table border=\"1\" class=\"dataframe\">\n",
       "  <thead>\n",
       "    <tr style=\"text-align: right;\">\n",
       "      <th></th>\n",
       "      <th>f0</th>\n",
       "      <th>f1</th>\n",
       "      <th>f2</th>\n",
       "      <th>product</th>\n",
       "    </tr>\n",
       "  </thead>\n",
       "  <tbody>\n",
       "    <tr>\n",
       "      <th>count</th>\n",
       "      <td>100000.000000</td>\n",
       "      <td>100000.000000</td>\n",
       "      <td>100000.000000</td>\n",
       "      <td>100000.000000</td>\n",
       "    </tr>\n",
       "    <tr>\n",
       "      <th>mean</th>\n",
       "      <td>0.002023</td>\n",
       "      <td>-0.002081</td>\n",
       "      <td>2.495128</td>\n",
       "      <td>95.000000</td>\n",
       "    </tr>\n",
       "    <tr>\n",
       "      <th>std</th>\n",
       "      <td>1.732045</td>\n",
       "      <td>1.730417</td>\n",
       "      <td>3.473445</td>\n",
       "      <td>44.749921</td>\n",
       "    </tr>\n",
       "    <tr>\n",
       "      <th>min</th>\n",
       "      <td>-8.760004</td>\n",
       "      <td>-7.084020</td>\n",
       "      <td>-11.970335</td>\n",
       "      <td>0.000000</td>\n",
       "    </tr>\n",
       "    <tr>\n",
       "      <th>25%</th>\n",
       "      <td>-1.162288</td>\n",
       "      <td>-1.174820</td>\n",
       "      <td>0.130359</td>\n",
       "      <td>59.450441</td>\n",
       "    </tr>\n",
       "    <tr>\n",
       "      <th>50%</th>\n",
       "      <td>0.009424</td>\n",
       "      <td>-0.009482</td>\n",
       "      <td>2.484236</td>\n",
       "      <td>94.925613</td>\n",
       "    </tr>\n",
       "    <tr>\n",
       "      <th>75%</th>\n",
       "      <td>1.158535</td>\n",
       "      <td>1.163678</td>\n",
       "      <td>4.858794</td>\n",
       "      <td>130.595027</td>\n",
       "    </tr>\n",
       "    <tr>\n",
       "      <th>max</th>\n",
       "      <td>7.238262</td>\n",
       "      <td>7.844801</td>\n",
       "      <td>16.739402</td>\n",
       "      <td>190.029838</td>\n",
       "    </tr>\n",
       "  </tbody>\n",
       "</table>\n",
       "</div>"
      ],
      "text/plain": [
       "                  f0             f1             f2        product\n",
       "count  100000.000000  100000.000000  100000.000000  100000.000000\n",
       "mean        0.002023      -0.002081       2.495128      95.000000\n",
       "std         1.732045       1.730417       3.473445      44.749921\n",
       "min        -8.760004      -7.084020     -11.970335       0.000000\n",
       "25%        -1.162288      -1.174820       0.130359      59.450441\n",
       "50%         0.009424      -0.009482       2.484236      94.925613\n",
       "75%         1.158535       1.163678       4.858794     130.595027\n",
       "max         7.238262       7.844801      16.739402     190.029838"
      ]
     },
     "execution_count": 13,
     "metadata": {},
     "output_type": "execute_result"
    }
   ],
   "source": [
    "data_2.describe()"
   ]
  },
  {
   "cell_type": "code",
   "execution_count": 14,
   "metadata": {},
   "outputs": [
    {
     "data": {
      "image/png": "[encoded data removed]",
      "text/plain": [
       "<Figure size 1600x800 with 1 Axes>"
      ]
     },
     "metadata": {},
     "output_type": "display_data"
    }
   ],
   "source": [
    "plt.figure(figsize=(16,8))\n",
    "sns.heatmap(data_2.corr(),  cmap=\"YlGnBu\", annot=True, cbar= False)\n",
    "plt.show()"
   ]
  },
  {
   "cell_type": "code",
   "execution_count": 15,
   "metadata": {},
   "outputs": [
    {
     "data": {
      "image/png": "[encoded data removed]",
      "text/plain": [
       "<Figure size 2500x1400 with 4 Axes>"
      ]
     },
     "metadata": {},
     "output_type": "display_data"
    }
   ],
   "source": [
    "fig, axes = plt.subplots(2, 2, figsize=(25,14))\n",
    "sns.set_style(\"white\")\n",
    "\n",
    "sns.boxplot(data = data_2, x='f0', ax=axes[0,0])\n",
    "axes[0,0].set_title('Диаграмма размаха признака f0', fontsize=16)\n",
    "axes[0,0].set_xlabel('f0', fontsize=16)\n",
    "\n",
    "\n",
    "sns.boxplot(data = data_2, x='f1', ax=axes[0,1])\n",
    "axes[0,1].set_title('Диаграмма размаха признака f1', fontsize=16)\n",
    "axes[0,1].set_xlabel('f1', fontsize=16)\n",
    "\n",
    "sns.boxplot(data = data_2, x='f2', ax=axes[1,0])\n",
    "axes[1,0].set_title('Диаграмма размаха признака f2', fontsize=16)\n",
    "axes[1,0].set_xlabel('f2', fontsize=16)\n",
    "\n",
    "sns.boxplot(data = data_2, x='product', ax=axes[1,1])\n",
    "axes[1,1].set_title('Диаграмма размаха признака объема запасов', fontsize=16)\n",
    "axes[1,1].set_xlabel('product', fontsize=16)\n",
    "\n",
    "plt.show()\n"
   ]
  },
  {
   "cell_type": "markdown",
   "metadata": {},
   "source": [
    "**Вывод:**\n",
    "- сделать вывод о достаточно больших и мальниких значений для признаков f1,f2,f3 тяжело, так как сутевая их составляющая нам не известна, темне менее можно сказать про запасы - сверх значений (условно 10 млн баррелей нефти) или отрицатльных запасов не наблюдается.\n",
    "- в целом выборосы (значения, лежащие за границами \"усов\" диаграммы размаха) по всем регоинам присутствует по 1 признаку, а по третьему региону и всем 3 признакам), при это сделать вывод дествительно ли это выборсы или редкая особенность регионов затруднительно (напомню, что сутевая составляющая фактора не приведена).\n",
    "- важно отметить, что по второму регоину наблюдается прямая корреляция между признаком f2 и запасами."
   ]
  },
  {
   "cell_type": "markdown",
   "metadata": {},
   "source": [
    "### Подготовка данных к обучению"
   ]
  },
  {
   "cell_type": "markdown",
   "metadata": {},
   "source": [
    "Каттегориальных признаков нет, поэтому кодирание не требуется. Выделим обучающую и валидационную выборки."
   ]
  },
  {
   "cell_type": "code",
   "execution_count": 16,
   "metadata": {},
   "outputs": [],
   "source": [
    "features_train_0, features_valid_0, target_train_0, target_valid_0 = train_test_split(\n",
    "    data_0.drop(['product'], axis=1), data_0['product'], test_size=0.25, random_state=12345)\n",
    "\n",
    "features_train_1, features_valid_1, target_train_1, target_valid_1 = train_test_split(\n",
    "    data_1.drop(['product'], axis=1), data_1['product'], test_size=0.25, random_state=12345)\n",
    "\n",
    "features_train_2, features_valid_2, target_train_2, target_valid_2 = train_test_split(\n",
    "    data_2.drop(['product'], axis=1), data_2['product'], test_size=0.25, random_state=12345)"
   ]
  },
  {
   "cell_type": "markdown",
   "metadata": {},
   "source": [
    "Выполним проверку корректно ли разделились данные."
   ]
  },
  {
   "cell_type": "code",
   "execution_count": 17,
   "metadata": {},
   "outputs": [
    {
     "name": "stdout",
     "output_type": "stream",
     "text": [
      "=====================================================================================================================\n",
      "Первый регион:\n",
      "Размер обучающей выборки составялет 75000\n",
      "Размер валидационной выборки составялет 25000\n",
      "=====================================================================================================================\n",
      "Второй регион:\n",
      "Размер обучающей выборки составялет 75000\n",
      "Размер валидационной выборки составялет 25000\n",
      "=====================================================================================================================\n",
      "Третий регион:\n",
      "Размер обучающей выборки составялет 75000\n",
      "Размер валидационной выборки составялет 25000\n",
      "=====================================================================================================================\n"
     ]
    }
   ],
   "source": [
    "print('=====================================================================================================================') \n",
    "print('Первый регион:') \n",
    "print('Размер обучающей выборки составялет', features_train_0.shape[0]) \n",
    "print('Размер валидационной выборки составялет', features_valid_0.shape[0])\n",
    "print('=====================================================================================================================') \n",
    "print('Второй регион:') \n",
    "print('Размер обучающей выборки составялет', features_train_1.shape[0]) \n",
    "print('Размер валидационной выборки составялет', features_valid_1.shape[0])\n",
    "print('=====================================================================================================================') \n",
    "print('Третий регион:') \n",
    "print('Размер обучающей выборки составялет', features_train_2.shape[0]) \n",
    "print('Размер валидационной выборки составялет', features_valid_2.shape[0])\n",
    "print('=====================================================================================================================') "
   ]
  },
  {
   "cell_type": "markdown",
   "metadata": {},
   "source": [
    "75% на обучение, 25% на валдиацию. Все верно. Идем дальше, следующим шагом проведем масштабирование данных, для этого напишем общую функцию."
   ]
  },
  {
   "cell_type": "code",
   "execution_count": 18,
   "metadata": {},
   "outputs": [],
   "source": [
    "def get_scaler(features_train, features_valid):\n",
    "    numeric = [column for column in features_train]\n",
    "\n",
    "    scaler = StandardScaler()\n",
    "    scaler.fit(features_train[numeric])\n",
    "    \n",
    "    features_train[numeric] = scaler.transform(features_train[numeric])\n",
    "    features_valid[numeric] = scaler.transform(features_valid[numeric])\n",
    "    \n",
    "    return features_train, features_valid"
   ]
  },
  {
   "cell_type": "code",
   "execution_count": 19,
   "metadata": {},
   "outputs": [],
   "source": [
    "#Масштабирование признаков для первого региона\n",
    "features_train_0, features_valid_0 = get_scaler(features_train_0, features_valid_0)\n",
    "#Масштабирование признаков для второго региона\n",
    "features_train_1, features_valid_1 = get_scaler(features_train_1, features_valid_1)\n",
    "#Масштабирование признаков для третьего региона\n",
    "features_train_2, features_valid_2 = get_scaler(features_train_2, features_valid_2)"
   ]
  },
  {
   "cell_type": "markdown",
   "metadata": {},
   "source": [
    "**Вывод:**\n",
    "- исходные данные разделены на обучающую и валидационную выборки в соотношении 75:25 соответственно;\n",
    "- учитывая, что каттегориальных признаков в данных нет кодировка признаков не трбуется;\n",
    "- выполнено масштабирование численных признаков для стандартизации."
   ]
  },
  {
   "cell_type": "markdown",
   "metadata": {},
   "source": [
    "## Обучение и проверка модели"
   ]
  },
  {
   "cell_type": "markdown",
   "metadata": {},
   "source": [
    "Перейдем к обучению моделей. \n",
    "\n",
    "Первым шагом напишем вспомогательные функции:\n",
    "- для обучения модели линейной регрессии;\n",
    "- для получения прогноза, при этом индексы прогноза преобразуем по индексами исходных ответов"
   ]
  },
  {
   "cell_type": "code",
   "execution_count": 20,
   "metadata": {},
   "outputs": [],
   "source": [
    "def get_fit_lin_regress_model(features, target):\n",
    "    model = LinearRegression()\n",
    "    model.fit(features, target)\n",
    "    return model\n",
    "\n",
    "def get_predictions(model, features_valid, indexes):\n",
    "    predictions = model.predict(features_valid)\n",
    "    np_array = np.array(predictions)\n",
    "    tranform_predictions = pd.Series(np_array, index = indexes)\n",
    "    return tranform_predictions"
   ]
  },
  {
   "cell_type": "markdown",
   "metadata": {},
   "source": [
    "Теперь приступим непосредственно к обучению и оценке качества прогноза на валидацонной выборке. Посчиатем основные метрики для задачи регресии (MSE, RMSE, R2), а также посчитаем средний запас прогнозируеймы и реальный."
   ]
  },
  {
   "cell_type": "code",
   "execution_count": 21,
   "metadata": {},
   "outputs": [],
   "source": [
    "#Первый регион\n",
    "lin_regress_model_0 = get_fit_lin_regress_model(features_train_0, target_train_0)\n",
    "prediction_reg_0 = get_predictions(lin_regress_model_0, features_valid_0, target_valid_0.index)\n",
    "\n",
    "mse_0 = mean_squared_error(target_valid_0, prediction_reg_0)\n",
    "rmse_0 = mse_0 ** 0.5\n",
    "r2_0 = r2_score(target_valid_0, prediction_reg_0)\n",
    "prediction_mean_0 = prediction_reg_0.mean()\n",
    "target_mean_0 = target_valid_0.mean()"
   ]
  },
  {
   "cell_type": "code",
   "execution_count": 22,
   "metadata": {},
   "outputs": [],
   "source": [
    "#Второй регион\n",
    "lin_regress_model_1 = get_fit_lin_regress_model(features_train_1, target_train_1)\n",
    "prediction_reg_1 = get_predictions(lin_regress_model_1, features_valid_1, target_valid_1.index)\n",
    "\n",
    "mse_1 = mean_squared_error(target_valid_1, prediction_reg_1)\n",
    "rmse_1 = mse_1 ** 0.5\n",
    "r2_1 = r2_score(target_valid_1, prediction_reg_1)\n",
    "prediction_mean_1 = prediction_reg_1.mean()\n",
    "target_mean_1 = target_valid_1.mean()"
   ]
  },
  {
   "cell_type": "code",
   "execution_count": 23,
   "metadata": {},
   "outputs": [],
   "source": [
    "#Третий регион\n",
    "lin_regress_model_2 = get_fit_lin_regress_model(features_train_2, target_train_2)\n",
    "prediction_reg_2 = get_predictions(lin_regress_model_2, features_valid_2, target_valid_2.index)\n",
    "\n",
    "mse_2 = mean_squared_error(target_valid_2, prediction_reg_2)\n",
    "rmse_2 = mse_2 ** 0.5\n",
    "r2_2 = r2_score(target_valid_2, prediction_reg_2)\n",
    "prediction_mean_2 = prediction_reg_2.mean()\n",
    "target_mean_2 = target_valid_2.mean()"
   ]
  },
  {
   "cell_type": "code",
   "execution_count": 24,
   "metadata": {},
   "outputs": [
    {
     "data": {
      "text/html": [
       "<div>\n",
       "<style scoped>\n",
       "    .dataframe tbody tr th:only-of-type {\n",
       "        vertical-align: middle;\n",
       "    }\n",
       "\n",
       "    .dataframe tbody tr th {\n",
       "        vertical-align: top;\n",
       "    }\n",
       "\n",
       "    .dataframe thead th {\n",
       "        text-align: right;\n",
       "    }\n",
       "</style>\n",
       "<table border=\"1\" class=\"dataframe\">\n",
       "  <thead>\n",
       "    <tr style=\"text-align: right;\">\n",
       "      <th></th>\n",
       "      <th>MSE</th>\n",
       "      <th>RMSE</th>\n",
       "      <th>R2</th>\n",
       "      <th>Средний запас</th>\n",
       "      <th>Средний прогнозируемый запас</th>\n",
       "    </tr>\n",
       "  </thead>\n",
       "  <tbody>\n",
       "    <tr>\n",
       "      <th>1 регион</th>\n",
       "      <td>1412.213</td>\n",
       "      <td>37.579</td>\n",
       "      <td>0.2799</td>\n",
       "      <td>92.0786</td>\n",
       "      <td>92.5926</td>\n",
       "    </tr>\n",
       "    <tr>\n",
       "      <th>2 регион</th>\n",
       "      <td>0.798</td>\n",
       "      <td>0.893</td>\n",
       "      <td>0.9996</td>\n",
       "      <td>68.7231</td>\n",
       "      <td>68.7285</td>\n",
       "    </tr>\n",
       "    <tr>\n",
       "      <th>3 регион</th>\n",
       "      <td>1602.378</td>\n",
       "      <td>40.030</td>\n",
       "      <td>0.2052</td>\n",
       "      <td>94.8842</td>\n",
       "      <td>94.9650</td>\n",
       "    </tr>\n",
       "  </tbody>\n",
       "</table>\n",
       "</div>"
      ],
      "text/plain": [
       "               MSE    RMSE      R2  Средний запас  \\\n",
       "1 регион  1412.213  37.579  0.2799        92.0786   \n",
       "2 регион     0.798   0.893  0.9996        68.7231   \n",
       "3 регион  1602.378  40.030  0.2052        94.8842   \n",
       "\n",
       "          Средний прогнозируемый запас  \n",
       "1 регион                       92.5926  \n",
       "2 регион                       68.7285  \n",
       "3 регион                       94.9650  "
      ]
     },
     "execution_count": 24,
     "metadata": {},
     "output_type": "execute_result"
    }
   ],
   "source": [
    "results = pd.DataFrame(\n",
    "    {'MSE':                          [round(mse_0,3), round(mse_1,3), round(mse_2,3)],\n",
    "     'RMSE':                         [round(rmse_0,3), round(rmse_1,3), round(rmse_2,3)],\n",
    "     'R2':                           [round(r2_0,4), round(r2_1,4), round(r2_2,4)],\n",
    "     'Средний запас':                [round(target_mean_0,4), round(target_mean_1,4), round(target_mean_2,4)],\n",
    "     'Средний прогнозируемый запас': [round(prediction_mean_0,4), round(prediction_mean_1,4), round(prediction_mean_2,4)],\n",
    "    }, \n",
    "    index=['1 регион','2 регион','3 регион']\n",
    ")\n",
    "results"
   ]
  },
  {
   "cell_type": "markdown",
   "metadata": {},
   "source": [
    "Анализируя результаты обучения и проверки на валидационной выборке можно сделать следующие выводы:\n",
    "- модель линейной регрессии на имеющихся данных показывают весьма не плохие рузльтаты;\n",
    "- на всех данных метрика R2 > 0 и в целом показывает, что модель прогнозирует лучше, чем случайный предиктор;\n",
    "- минимальное значение метрики RMSE по второму региону, при этом R2 стремится к 1, сказывается прямая корреляция одного из признаков с объемом запасов."
   ]
  },
  {
   "cell_type": "markdown",
   "metadata": {},
   "source": [
    "## Подготовка к расчёту прибыли"
   ]
  },
  {
   "cell_type": "markdown",
   "metadata": {},
   "source": [
    "Услоивя задачи:\n",
    "- при разведке региона исследуют 500 точек, из которых с помощью машинного обучения выбирают 200 лучших для разработки; \n",
    "- бюджет на разработку скважин в регионе — 10 млрд рублей; \n",
    "- при нынешних ценах один баррель сырья приносит 450 рублей дохода; \n",
    "- доход с каждой единицы продукта составляет 450 тыс. рублей, поскольку объём указан в тысячах баррелей."
   ]
  },
  {
   "cell_type": "code",
   "execution_count": 25,
   "metadata": {},
   "outputs": [
    {
     "data": {
      "text/plain": [
       "38665    139.818970\n",
       "20191    139.773423\n",
       "14041    139.703330\n",
       "24274    139.560938\n",
       "92782    139.516754\n",
       "            ...    \n",
       "21570     -1.634717\n",
       "97894     -1.693844\n",
       "92993     -1.871442\n",
       "1411      -1.883737\n",
       "91386     -1.893774\n",
       "Length: 25000, dtype: float64"
      ]
     },
     "execution_count": 25,
     "metadata": {},
     "output_type": "execute_result"
    }
   ],
   "source": [
    "predictions_sorted_1 = prediction_reg_1.sort_values(ascending=False)\n",
    "predictions_sorted_1"
   ]
  },
  {
   "cell_type": "code",
   "execution_count": 26,
   "metadata": {},
   "outputs": [
    {
     "data": {
      "text/plain": [
       "38665    137.945408\n",
       "20191    137.945408\n",
       "14041    137.945408\n",
       "24274    137.945408\n",
       "92782    137.945408\n",
       "            ...    \n",
       "21570      0.000000\n",
       "97894      0.000000\n",
       "92993      0.000000\n",
       "1411       0.000000\n",
       "91386      0.000000\n",
       "Name: product, Length: 25000, dtype: float64"
      ]
     },
     "execution_count": 26,
     "metadata": {},
     "output_type": "execute_result"
    }
   ],
   "source": [
    "target_valid_1[predictions_sorted_1.index]"
   ]
  },
  {
   "cell_type": "code",
   "execution_count": 27,
   "metadata": {},
   "outputs": [],
   "source": [
    "# Константы из условий задачи:\n",
    "MAX_POINTS = 500\n",
    "COUNT_POINTS = 200\n",
    "BUGET_OF_REG = 10 ** 10\n",
    "PRICE = 450 * 10 ** 3"
   ]
  },
  {
   "cell_type": "markdown",
   "metadata": {},
   "source": [
    "Посчитаем объём сырья для безубыточной разработки новой скважины и сравним полученное значение со средним запасом в каждом регионе. "
   ]
  },
  {
   "cell_type": "code",
   "execution_count": 28,
   "metadata": {},
   "outputs": [
    {
     "name": "stdout",
     "output_type": "stream",
     "text": [
      "Объём сырья для безубыточной разработки новой скважины составялет 111.11 тыс баррелей\n",
      "Средний объем запасов скважины в первом регионе составялет 92.50 тыс баррелей\n",
      "Средний объем запасов скважины во втором регионе составялет 68.83 тыс баррелей\n",
      "Средний объем запасов скважины в третьем регионе составялет 95.00 тыс баррелей\n"
     ]
    }
   ],
   "source": [
    "breakeven = BUGET_OF_REG / PRICE / COUNT_POINTS\n",
    "print('Объём сырья для безубыточной разработки новой скважины составялет {:.2f}'.format(breakeven), 'тыс баррелей')\n",
    "print('Средний объем запасов скважины в первом регионе составялет {:.2f}'.format(data_0['product'].mean()), 'тыс баррелей')\n",
    "print('Средний объем запасов скважины во втором регионе составялет {:.2f}'.format(data_1['product'].mean()), 'тыс баррелей')\n",
    "print('Средний объем запасов скважины в третьем регионе составялет {:.2f}'.format(data_2['product'].mean()), 'тыс баррелей')"
   ]
  },
  {
   "cell_type": "markdown",
   "metadata": {},
   "source": [
    "**Вывод:**\n",
    "- исходя из условий задачи - объем сырья для безубыточной разработки новой скважины составялет 111.11 тыс баррелей;\n",
    "- объем запасов по представленным данным в регионах существенно ниже \"точки безубыточности\";\n",
    "- существенно выделяется второй регион, средние запасы ниже более чем в 1,5 раза по сравнению с \"точкой безубыточности\", при этом обученная модель очень хорошо прогнозирует запасы скважин именно в этом регионе (R2 = 1, минимальное значение RMSE)."
   ]
  },
  {
   "cell_type": "markdown",
   "metadata": {},
   "source": [
    "## Расчёт прибыли и рисков "
   ]
  },
  {
   "cell_type": "markdown",
   "metadata": {},
   "source": [
    "Для начала напишем функции расчета прибыли, bootsrtap-а, расчета доверительного интервала и риска убытков."
   ]
  },
  {
   "cell_type": "code",
   "execution_count": 29,
   "metadata": {},
   "outputs": [],
   "source": [
    "def get_profit(target, predictions):\n",
    "    predictions_sorted = predictions.sort_values(ascending=False)\n",
    "    selected = target[predictions_sorted.index][:COUNT_POINTS]\n",
    "    return PRICE * selected.sum() - BUGET_OF_REG\n",
    "\n",
    "def bootsrtap(target, predictions):\n",
    "    state = np.random.RandomState(12345)\n",
    "    values = []\n",
    "    \n",
    "    for i in range(1000):\n",
    "        target_subsample = target.sample(n = MAX_POINTS, replace = True, random_state = state)\n",
    "        predictions_subsample = predictions[target_subsample.index]\n",
    "        values.append(get_profit(target_subsample, predictions_subsample))\n",
    "\n",
    "    values = pd.Series(values)\n",
    "    return values \n",
    "\n",
    "def get_confidence_interval(values, lower, upper):\n",
    "    return(\n",
    "        round(values.quantile(lower) / 10 ** 6, 2), #для удобства перевод в млн руб. и округление до 2 знаков\n",
    "        round(values.quantile(upper) / 10 ** 6, 2)  #для удобства перевод в млн руб. и округление до 2 знаков\n",
    "    ) \n",
    "\n",
    "def get_risk_of_loss(values):\n",
    "    return st.percentileofscore(values, 0)"
   ]
  },
  {
   "cell_type": "markdown",
   "metadata": {},
   "source": [
    "Найдем распределение возможной прибыли для каждого региона."
   ]
  },
  {
   "cell_type": "code",
   "execution_count": 30,
   "metadata": {},
   "outputs": [],
   "source": [
    "profit_distribution_0 = bootsrtap(target_valid_0, prediction_reg_0)\n",
    "profit_distribution_1 = bootsrtap(target_valid_1, prediction_reg_1)\n",
    "profit_distribution_2 = bootsrtap(target_valid_2, prediction_reg_2)"
   ]
  },
  {
   "cell_type": "markdown",
   "metadata": {},
   "source": [
    "Посчитаем среднюю прибыль для каждого региона и дл удобства переведем из руб в млн руб."
   ]
  },
  {
   "cell_type": "code",
   "execution_count": 31,
   "metadata": {},
   "outputs": [],
   "source": [
    "mean_profit_0 = round(profit_distribution_0.mean() / 10 ** 6, 2) #для удобства перевод в млн руб. и округление до 2 знаков\n",
    "mean_profit_1 = round(profit_distribution_1.mean() / 10 ** 6, 2) #для удобства перевод в млн руб. и округление до 2 знаков\n",
    "mean_profit_2 = round(profit_distribution_2.mean() / 10 ** 6, 2) #для удобства перевод в млн руб. и округление до 2 знаков"
   ]
  },
  {
   "cell_type": "code",
   "execution_count": 32,
   "metadata": {},
   "outputs": [],
   "source": [
    "confidence_interval_0 = get_confidence_interval(profit_distribution_0, 0.025, 0.975)\n",
    "confidence_interval_1 = get_confidence_interval(profit_distribution_1, 0.025, 0.975)\n",
    "confidence_interval_2 = get_confidence_interval(profit_distribution_2, 0.025, 0.975)"
   ]
  },
  {
   "cell_type": "markdown",
   "metadata": {},
   "source": [
    "Определим 95% доверительный интервал для каждого региона"
   ]
  },
  {
   "cell_type": "code",
   "execution_count": 33,
   "metadata": {},
   "outputs": [
    {
     "data": {
      "image/png": "[encoded data removed]",
      "text/plain": [
       "<Figure size 1800x600 with 1 Axes>"
      ]
     },
     "metadata": {},
     "output_type": "display_data"
    },
    {
     "data": {
      "image/png": "[encoded data removed]",
      "text/plain": [
       "<Figure size 1800x600 with 1 Axes>"
      ]
     },
     "metadata": {},
     "output_type": "display_data"
    },
    {
     "data": {
      "image/png": "[encoded data removed]",
      "text/plain": [
       "<Figure size 1800x600 with 1 Axes>"
      ]
     },
     "metadata": {},
     "output_type": "display_data"
    }
   ],
   "source": [
    "sns.set_style(\"white\")\n",
    "fig, ax = plt.subplots(figsize=(18,6))\n",
    "sns.histplot(data=profit_distribution_0,  kde=True,bins=100, edgecolor='black', ax=ax)\n",
    "\n",
    "plt.vlines((profit_distribution_0.quantile(0.025),profit_distribution_0.quantile(0.975)) , \n",
    "           ymin=0, \n",
    "           ymax=50, \n",
    "           linestyle='--', \n",
    "           color ='red')\n",
    "plt.vlines(profit_distribution_0.mean(), \n",
    "           ymin=0, \n",
    "           ymax=50, \n",
    "           linewidth=4, color='g', linestyle='-.')\n",
    "plt.title('Распределение возможной прибыли для 1 региона')\n",
    "plt.xlabel('Прибыль, млрд руб.')\n",
    "plt.ylabel('Частота')\n",
    "plt.show()\n",
    "\n",
    "\n",
    "sns.set_style(\"white\")\n",
    "fig, ax = plt.subplots(figsize=(18,6))\n",
    "sns.histplot(data=profit_distribution_1,  kde=True,bins=100, edgecolor='black', ax=ax)\n",
    "\n",
    "plt.vlines((profit_distribution_1.quantile(0.025),profit_distribution_1.quantile(0.975)) , \n",
    "           ymin=0, \n",
    "           ymax=50, \n",
    "           linestyle='--', \n",
    "           color ='red')\n",
    "plt.vlines(profit_distribution_1.mean(), \n",
    "           ymin=0, \n",
    "           ymax=50, \n",
    "           linewidth=4, color='g', linestyle='-.')\n",
    "plt.title('Распределение возможной прибыли для 2 региона')\n",
    "plt.xlabel('Прибыль, млрд руб.')\n",
    "plt.ylabel('Частота')\n",
    "plt.show()\n",
    "\n",
    "\n",
    "\n",
    "sns.set_style(\"white\")\n",
    "fig, ax = plt.subplots(figsize=(18,6))\n",
    "sns.histplot(data=profit_distribution_2,  kde=True,bins=100, edgecolor='black', ax=ax)\n",
    "\n",
    "plt.vlines((profit_distribution_2.quantile(0.025),profit_distribution_2.quantile(0.975)) , \n",
    "           ymin=0, \n",
    "           ymax=50, \n",
    "           linestyle='--', \n",
    "           color ='red')\n",
    "plt.vlines(profit_distribution_2.mean(), \n",
    "           ymin=0, \n",
    "           ymax=50, \n",
    "           linewidth=4, color='g', linestyle='-.')\n",
    "plt.title('Распределение возможной прибыли для 3 региона')\n",
    "plt.xlabel('Прибыль, млрд руб.')\n",
    "plt.ylabel('Частота')\n",
    "plt.show()"
   ]
  },
  {
   "cell_type": "markdown",
   "metadata": {},
   "source": [
    "Определим вероятность убытков по регионам"
   ]
  },
  {
   "cell_type": "code",
   "execution_count": 34,
   "metadata": {},
   "outputs": [],
   "source": [
    "risk_of_loss_0 = str(get_risk_of_loss(profit_distribution_0)) + '%'\n",
    "risk_of_loss_1 = str(get_risk_of_loss(profit_distribution_1)) + '%'\n",
    "risk_of_loss_2 = str(get_risk_of_loss(profit_distribution_2)) + '%'"
   ]
  },
  {
   "cell_type": "markdown",
   "metadata": {},
   "source": [
    "Сведем результаты средний прибыли, 95% доверительного интервала и вероятности убытков в разрезе регионов в итоговую таблицу."
   ]
  },
  {
   "cell_type": "code",
   "execution_count": 35,
   "metadata": {
    "scrolled": true
   },
   "outputs": [
    {
     "data": {
      "text/html": [
       "<div>\n",
       "<style scoped>\n",
       "    .dataframe tbody tr th:only-of-type {\n",
       "        vertical-align: middle;\n",
       "    }\n",
       "\n",
       "    .dataframe tbody tr th {\n",
       "        vertical-align: top;\n",
       "    }\n",
       "\n",
       "    .dataframe thead th {\n",
       "        text-align: right;\n",
       "    }\n",
       "</style>\n",
       "<table border=\"1\" class=\"dataframe\">\n",
       "  <thead>\n",
       "    <tr style=\"text-align: right;\">\n",
       "      <th></th>\n",
       "      <th>Средняя прибыль, млн руб.</th>\n",
       "      <th>95%-й доверительный интервал, млн руб.</th>\n",
       "      <th>Вероятность убытков</th>\n",
       "    </tr>\n",
       "  </thead>\n",
       "  <tbody>\n",
       "    <tr>\n",
       "      <th>1 регион</th>\n",
       "      <td>425.94</td>\n",
       "      <td>(-102.09, 947.98)</td>\n",
       "      <td>6.0%</td>\n",
       "    </tr>\n",
       "    <tr>\n",
       "      <th>2 регион</th>\n",
       "      <td>515.22</td>\n",
       "      <td>(68.87, 931.55)</td>\n",
       "      <td>1.0%</td>\n",
       "    </tr>\n",
       "    <tr>\n",
       "      <th>3 регион</th>\n",
       "      <td>435.01</td>\n",
       "      <td>(-128.88, 969.71)</td>\n",
       "      <td>6.4%</td>\n",
       "    </tr>\n",
       "  </tbody>\n",
       "</table>\n",
       "</div>"
      ],
      "text/plain": [
       "          Средняя прибыль, млн руб. 95%-й доверительный интервал, млн руб.  \\\n",
       "1 регион                     425.94                      (-102.09, 947.98)   \n",
       "2 регион                     515.22                        (68.87, 931.55)   \n",
       "3 регион                     435.01                      (-128.88, 969.71)   \n",
       "\n",
       "         Вероятность убытков  \n",
       "1 регион                6.0%  \n",
       "2 регион                1.0%  \n",
       "3 регион                6.4%  "
      ]
     },
     "execution_count": 35,
     "metadata": {},
     "output_type": "execute_result"
    }
   ],
   "source": [
    "results = pd.DataFrame(\n",
    "    {'Средняя прибыль, млн руб.':              [mean_profit_0, mean_profit_1, mean_profit_2],\n",
    "     '95%-й доверительный интервал, млн руб.': [confidence_interval_0, confidence_interval_1, confidence_interval_2],\n",
    "     'Вероятность убытков':                    [risk_of_loss_0, risk_of_loss_1, risk_of_loss_2]\n",
    "    }, \n",
    "    index=['1 регион','2 регион','3 регион']\n",
    ")\n",
    "\n",
    "results"
   ]
  },
  {
   "cell_type": "code",
   "execution_count": 36,
   "metadata": {},
   "outputs": [
    {
     "data": {
      "text/plain": [
       "68873225.37050176"
      ]
     },
     "execution_count": 36,
     "metadata": {},
     "output_type": "execute_result"
    }
   ],
   "source": [
    "(profit_distribution_1.quantile(0.025))"
   ]
  },
  {
   "cell_type": "markdown",
   "metadata": {},
   "source": [
    "**Вывод:**\n",
    "- на предыдущем этапе были рассчитаны средние запасы в разрезе регионов и определён минимальный запас для безубыточной разработки месторождения (111.11 тыс баррелей);\n",
    "- регион с минимальными средними запасами - второй (68.8 тыс баррелей) и по предварительной оценки этот регион не подходил под разработку скважин;\n",
    "- не смотря на то, что во втором регионе запасы минимальные, вероятность убытков в данном регионе минимальная (около 1%) с наибольшем значением средний прибыли (515 млн руб.); \n",
    "- Справочно для первого и третьего региона вероятность убытков составляет от 6% до 6.4%, а средняя прибыль от 425 до 435 млн руб. \n",
    "\n",
    "**Таким образом, второй регион предлагается для разработки.**\n"
   ]
  },
  {
   "cell_type": "markdown",
   "metadata": {},
   "source": [
    "## Общий вывод"
   ]
  },
  {
   "cell_type": "markdown",
   "metadata": {},
   "source": [
    "- Для анализа представлены данные по 3 регионам, которые содержат 3 признака (сутевая составляющая их пре представлена) и объем запасов.\n",
    "- Представленные для анализа данные довольно \"чистые\" с точки зрения наличия пропусков и явных дубликатов;\n",
    "- В признаках f0,f1,f2 присутствуют значения, которые лежат за границами усов диаграммы размаха, но учитывая, что сутевая составляющая этих признаков не представлена - сделать вывод, что это выбросы и такие значения подлежат исключению анализа будет не самым правильным подходом.\n",
    "- У второго региона признак f2 напрямую коррелирует с объёмом запасов (к-т корреляции = 1).\n",
    "- Для каждого региона построена модель линейной регрессии. Наилучшие результаты по метрикам RMSE и R2 у второго региона, метрики на валидационный выборке равны 0.893 и 0.9996 соответственно. Сказывает прямая корреляция. Также средний предсказанный объем запасов по второму региону довольно близок к истинному (до 2 знаков после запятой).\n",
    "- Также был определен объем сырья для безубыточной разработки новой скважины (111.11 тыс баррелей), при этом ни одни из рассмотренных регионов не удовлетворял этому критерию, в особенности второй регион (средние запасы ниже более чем в 1,5 раза по сравнению с \"точкой безубыточности\");\n",
    "- после чего для каждого региона были определены значения средней возможной прибыли, 95%-й доверительный интервал и вероятность убытков. При том, что у второго региона прогнозируемый средний запас меньше чем у других, среднее значение возможной прибыли наибольшее (515 млн руб.) при этому вероятность убытков минимальная (1%).\n",
    "- таким образом, второй регион предлагается для разработки."
   ]
  }
 ],
 "metadata": {
  "ExecuteTimeLog": [
   {
    "duration": 400,
    "start_time": "2023-04-02T14:03:53.080Z"
   },
   {
    "duration": 621,
    "start_time": "2023-04-02T14:04:43.857Z"
   },
   {
    "duration": 21,
    "start_time": "2023-04-02T14:04:54.078Z"
   },
   {
    "duration": 1095,
    "start_time": "2023-04-02T14:05:27.264Z"
   },
   {
    "duration": 15,
    "start_time": "2023-04-02T14:12:20.076Z"
   },
   {
    "duration": 10,
    "start_time": "2023-04-02T14:12:26.480Z"
   },
   {
    "duration": 12,
    "start_time": "2023-04-02T14:13:08.008Z"
   },
   {
    "duration": 9,
    "start_time": "2023-04-02T14:13:20.113Z"
   },
   {
    "duration": 12,
    "start_time": "2023-04-02T14:13:30.171Z"
   },
   {
    "duration": 9,
    "start_time": "2023-04-02T14:13:34.850Z"
   },
   {
    "duration": 19,
    "start_time": "2023-04-02T14:13:43.729Z"
   },
   {
    "duration": 26,
    "start_time": "2023-04-02T14:13:59.583Z"
   },
   {
    "duration": 40,
    "start_time": "2023-04-02T14:15:51.282Z"
   },
   {
    "duration": 37,
    "start_time": "2023-04-02T14:16:09.776Z"
   },
   {
    "duration": 35,
    "start_time": "2023-04-02T14:16:13.123Z"
   },
   {
    "duration": 160,
    "start_time": "2023-04-02T14:17:12.722Z"
   },
   {
    "duration": 144,
    "start_time": "2023-04-02T14:18:07.314Z"
   },
   {
    "duration": 139,
    "start_time": "2023-04-02T14:18:15.431Z"
   },
   {
    "duration": 127,
    "start_time": "2023-04-02T14:18:24.382Z"
   },
   {
    "duration": 161,
    "start_time": "2023-04-02T14:19:08.855Z"
   },
   {
    "duration": 60,
    "start_time": "2023-04-02T14:32:31.895Z"
   },
   {
    "duration": 42,
    "start_time": "2023-04-02T14:32:47.300Z"
   },
   {
    "duration": 1512,
    "start_time": "2023-04-04T05:09:43.773Z"
   },
   {
    "duration": 1501,
    "start_time": "2023-04-04T05:09:45.288Z"
   },
   {
    "duration": 29,
    "start_time": "2023-04-04T05:09:46.791Z"
   },
   {
    "duration": 51,
    "start_time": "2023-04-04T05:09:47.857Z"
   },
   {
    "duration": 133,
    "start_time": "2023-04-04T05:09:49.113Z"
   },
   {
    "duration": 165,
    "start_time": "2023-04-04T05:10:46.068Z"
   },
   {
    "duration": 131,
    "start_time": "2023-04-04T05:10:56.214Z"
   },
   {
    "duration": 19,
    "start_time": "2023-04-04T05:11:04.132Z"
   },
   {
    "duration": 3,
    "start_time": "2023-04-04T05:11:07.203Z"
   },
   {
    "duration": 436,
    "start_time": "2023-04-04T05:11:07.212Z"
   },
   {
    "duration": 22,
    "start_time": "2023-04-04T05:11:07.650Z"
   },
   {
    "duration": 59,
    "start_time": "2023-04-04T05:11:07.673Z"
   },
   {
    "duration": 144,
    "start_time": "2023-04-04T05:11:07.734Z"
   },
   {
    "duration": 27,
    "start_time": "2023-04-04T05:11:07.903Z"
   },
   {
    "duration": 37,
    "start_time": "2023-04-04T05:11:08.542Z"
   },
   {
    "duration": 12,
    "start_time": "2023-04-04T05:11:20.154Z"
   },
   {
    "duration": 12,
    "start_time": "2023-04-04T05:11:44.527Z"
   },
   {
    "duration": 12,
    "start_time": "2023-04-04T05:14:01.867Z"
   },
   {
    "duration": 2,
    "start_time": "2023-04-04T05:14:20.951Z"
   },
   {
    "duration": 428,
    "start_time": "2023-04-04T05:14:20.956Z"
   },
   {
    "duration": 28,
    "start_time": "2023-04-04T05:14:21.387Z"
   },
   {
    "duration": 72,
    "start_time": "2023-04-04T05:14:21.417Z"
   },
   {
    "duration": 134,
    "start_time": "2023-04-04T05:14:21.491Z"
   },
   {
    "duration": 13,
    "start_time": "2023-04-04T05:14:22.003Z"
   },
   {
    "duration": 36,
    "start_time": "2023-04-04T05:14:23.832Z"
   },
   {
    "duration": 35,
    "start_time": "2023-04-04T05:15:22.532Z"
   },
   {
    "duration": 4909,
    "start_time": "2023-04-04T05:16:03.503Z"
   },
   {
    "duration": 4937,
    "start_time": "2023-04-04T05:16:12.518Z"
   },
   {
    "duration": 1239,
    "start_time": "2023-04-04T06:48:42.887Z"
   },
   {
    "duration": 897,
    "start_time": "2023-04-04T06:48:44.128Z"
   },
   {
    "duration": 25,
    "start_time": "2023-04-04T06:48:45.027Z"
   },
   {
    "duration": 42,
    "start_time": "2023-04-04T06:48:45.054Z"
   },
   {
    "duration": 135,
    "start_time": "2023-04-04T06:48:45.098Z"
   },
   {
    "duration": 15,
    "start_time": "2023-04-04T06:48:45.234Z"
   },
   {
    "duration": 44,
    "start_time": "2023-04-04T06:48:45.251Z"
   },
   {
    "duration": 4438,
    "start_time": "2023-04-04T06:48:45.297Z"
   },
   {
    "duration": 87,
    "start_time": "2023-04-04T06:48:49.736Z"
   },
   {
    "duration": 358,
    "start_time": "2023-04-04T06:49:18.919Z"
   },
   {
    "duration": 9,
    "start_time": "2023-04-04T06:51:46.934Z"
   },
   {
    "duration": 289,
    "start_time": "2023-04-04T06:51:54.869Z"
   },
   {
    "duration": 316,
    "start_time": "2023-04-04T06:52:32.768Z"
   },
   {
    "duration": 318,
    "start_time": "2023-04-04T06:52:40.252Z"
   },
   {
    "duration": 343,
    "start_time": "2023-04-04T06:52:44.706Z"
   },
   {
    "duration": 359,
    "start_time": "2023-04-04T06:55:08.760Z"
   },
   {
    "duration": 347,
    "start_time": "2023-04-04T06:55:21.931Z"
   },
   {
    "duration": 365,
    "start_time": "2023-04-04T06:55:41.352Z"
   },
   {
    "duration": 332,
    "start_time": "2023-04-04T06:55:50.357Z"
   },
   {
    "duration": 776,
    "start_time": "2023-04-04T07:00:52.404Z"
   },
   {
    "duration": 1934,
    "start_time": "2023-04-04T07:01:02.536Z"
   },
   {
    "duration": 1782,
    "start_time": "2023-04-04T07:01:19.472Z"
   },
   {
    "duration": 267,
    "start_time": "2023-04-04T07:07:31.123Z"
   },
   {
    "duration": 119,
    "start_time": "2023-04-04T07:07:39.729Z"
   },
   {
    "duration": 115,
    "start_time": "2023-04-04T07:07:47.539Z"
   },
   {
    "duration": 108,
    "start_time": "2023-04-04T07:07:57.921Z"
   },
   {
    "duration": 74,
    "start_time": "2023-04-04T07:08:50.800Z"
   },
   {
    "duration": 444,
    "start_time": "2023-04-04T07:09:06.984Z"
   },
   {
    "duration": 510,
    "start_time": "2023-04-04T07:09:55.118Z"
   },
   {
    "duration": 581,
    "start_time": "2023-04-04T07:12:35.202Z"
   },
   {
    "duration": 676,
    "start_time": "2023-04-04T07:13:29.929Z"
   },
   {
    "duration": 474,
    "start_time": "2023-04-04T07:13:37.180Z"
   },
   {
    "duration": 485,
    "start_time": "2023-04-04T07:13:59.973Z"
   },
   {
    "duration": 535,
    "start_time": "2023-04-04T07:14:12.553Z"
   },
   {
    "duration": 495,
    "start_time": "2023-04-04T07:14:23.387Z"
   },
   {
    "duration": 692,
    "start_time": "2023-04-04T07:14:37.661Z"
   },
   {
    "duration": 1278,
    "start_time": "2023-04-06T05:31:13.488Z"
   },
   {
    "duration": 1449,
    "start_time": "2023-04-06T05:31:14.771Z"
   },
   {
    "duration": 24,
    "start_time": "2023-04-06T05:31:16.221Z"
   },
   {
    "duration": 45,
    "start_time": "2023-04-06T05:31:16.246Z"
   },
   {
    "duration": 118,
    "start_time": "2023-04-06T05:31:16.292Z"
   },
   {
    "duration": 14,
    "start_time": "2023-04-06T05:31:16.412Z"
   },
   {
    "duration": 39,
    "start_time": "2023-04-06T05:31:16.428Z"
   },
   {
    "duration": 383,
    "start_time": "2023-04-06T05:31:16.469Z"
   },
   {
    "duration": 1872,
    "start_time": "2023-04-06T05:31:16.854Z"
   },
   {
    "duration": 422,
    "start_time": "2023-04-06T05:31:18.728Z"
   },
   {
    "duration": 3,
    "start_time": "2023-04-06T05:32:26.162Z"
   },
   {
    "duration": 415,
    "start_time": "2023-04-06T05:32:26.170Z"
   },
   {
    "duration": 23,
    "start_time": "2023-04-06T05:32:26.587Z"
   },
   {
    "duration": 117,
    "start_time": "2023-04-06T05:32:26.612Z"
   },
   {
    "duration": 128,
    "start_time": "2023-04-06T05:32:26.731Z"
   },
   {
    "duration": 24,
    "start_time": "2023-04-06T05:32:26.860Z"
   },
   {
    "duration": 55,
    "start_time": "2023-04-06T05:32:26.885Z"
   },
   {
    "duration": 378,
    "start_time": "2023-04-06T05:32:26.942Z"
   },
   {
    "duration": 2123,
    "start_time": "2023-04-06T05:32:27.322Z"
   },
   {
    "duration": 572,
    "start_time": "2023-04-06T05:32:29.447Z"
   },
   {
    "duration": 35,
    "start_time": "2023-04-06T05:32:30.022Z"
   },
   {
    "duration": 352,
    "start_time": "2023-04-06T05:32:30.059Z"
   },
   {
    "duration": 2143,
    "start_time": "2023-04-06T05:32:30.413Z"
   },
   {
    "duration": 670,
    "start_time": "2023-04-06T05:32:32.558Z"
   },
   {
    "duration": 1012,
    "start_time": "2023-04-06T05:32:38.399Z"
   },
   {
    "duration": 1032,
    "start_time": "2023-04-06T05:32:44.005Z"
   },
   {
    "duration": 781,
    "start_time": "2023-04-06T05:32:49.113Z"
   },
   {
    "duration": 1162,
    "start_time": "2023-04-06T05:32:53.650Z"
   },
   {
    "duration": 995,
    "start_time": "2023-04-06T05:33:04.955Z"
   },
   {
    "duration": 1237,
    "start_time": "2023-04-06T05:35:35.135Z"
   },
   {
    "duration": 532,
    "start_time": "2023-04-06T05:35:56.491Z"
   },
   {
    "duration": 1093,
    "start_time": "2023-04-06T05:36:27.503Z"
   },
   {
    "duration": 367,
    "start_time": "2023-04-06T05:36:28.597Z"
   },
   {
    "duration": 31,
    "start_time": "2023-04-06T05:36:28.966Z"
   },
   {
    "duration": 38,
    "start_time": "2023-04-06T05:36:29.000Z"
   },
   {
    "duration": 147,
    "start_time": "2023-04-06T05:36:29.039Z"
   },
   {
    "duration": 14,
    "start_time": "2023-04-06T05:36:29.188Z"
   },
   {
    "duration": 49,
    "start_time": "2023-04-06T05:36:29.204Z"
   },
   {
    "duration": 368,
    "start_time": "2023-04-06T05:36:29.255Z"
   },
   {
    "duration": 917,
    "start_time": "2023-04-06T05:36:29.625Z"
   },
   {
    "duration": 527,
    "start_time": "2023-04-06T05:36:30.544Z"
   },
   {
    "duration": 43,
    "start_time": "2023-04-06T05:36:31.072Z"
   },
   {
    "duration": 346,
    "start_time": "2023-04-06T05:36:31.117Z"
   },
   {
    "duration": 988,
    "start_time": "2023-04-06T05:36:31.465Z"
   },
   {
    "duration": 521,
    "start_time": "2023-04-06T05:36:32.454Z"
   },
   {
    "duration": 39,
    "start_time": "2023-04-06T05:36:32.977Z"
   },
   {
    "duration": 322,
    "start_time": "2023-04-06T05:36:33.017Z"
   },
   {
    "duration": 1073,
    "start_time": "2023-04-06T05:36:33.341Z"
   },
   {
    "duration": 558,
    "start_time": "2023-04-06T05:36:34.416Z"
   },
   {
    "duration": 99,
    "start_time": "2023-04-06T06:54:43.633Z"
   },
   {
    "duration": 338,
    "start_time": "2023-04-06T06:55:18.599Z"
   },
   {
    "duration": 26,
    "start_time": "2023-04-06T06:55:27.255Z"
   },
   {
    "duration": 5,
    "start_time": "2023-04-06T06:56:20.380Z"
   },
   {
    "duration": 4,
    "start_time": "2023-04-06T06:56:33.776Z"
   },
   {
    "duration": 7,
    "start_time": "2023-04-06T06:56:56.477Z"
   },
   {
    "duration": 5,
    "start_time": "2023-04-06T06:57:16.343Z"
   },
   {
    "duration": 7,
    "start_time": "2023-04-06T06:57:26.153Z"
   },
   {
    "duration": 1354,
    "start_time": "2023-04-07T00:16:21.338Z"
   },
   {
    "duration": 412,
    "start_time": "2023-04-07T00:16:22.694Z"
   },
   {
    "duration": 24,
    "start_time": "2023-04-07T00:16:23.112Z"
   },
   {
    "duration": 69,
    "start_time": "2023-04-07T00:16:23.138Z"
   },
   {
    "duration": 126,
    "start_time": "2023-04-07T00:16:23.209Z"
   },
   {
    "duration": 17,
    "start_time": "2023-04-07T00:16:23.337Z"
   },
   {
    "duration": 54,
    "start_time": "2023-04-07T00:16:23.355Z"
   },
   {
    "duration": 335,
    "start_time": "2023-04-07T00:16:23.411Z"
   },
   {
    "duration": 1028,
    "start_time": "2023-04-07T00:16:23.748Z"
   },
   {
    "duration": 451,
    "start_time": "2023-04-07T00:16:24.784Z"
   },
   {
    "duration": 34,
    "start_time": "2023-04-07T00:16:25.236Z"
   },
   {
    "duration": 360,
    "start_time": "2023-04-07T00:16:25.272Z"
   },
   {
    "duration": 1045,
    "start_time": "2023-04-07T00:16:25.634Z"
   },
   {
    "duration": 649,
    "start_time": "2023-04-07T00:16:26.680Z"
   },
   {
    "duration": 32,
    "start_time": "2023-04-07T00:16:27.330Z"
   },
   {
    "duration": 365,
    "start_time": "2023-04-07T00:16:27.363Z"
   },
   {
    "duration": 1015,
    "start_time": "2023-04-07T00:16:27.730Z"
   },
   {
    "duration": 554,
    "start_time": "2023-04-07T00:16:28.747Z"
   },
   {
    "duration": 29,
    "start_time": "2023-04-07T00:16:29.302Z"
   },
   {
    "duration": 26,
    "start_time": "2023-04-07T00:16:29.333Z"
   },
   {
    "duration": 7,
    "start_time": "2023-04-07T00:42:35.469Z"
   },
   {
    "duration": 109,
    "start_time": "2023-04-07T01:53:52.659Z"
   },
   {
    "duration": 12,
    "start_time": "2023-04-07T01:53:58.935Z"
   },
   {
    "duration": 10,
    "start_time": "2023-04-07T01:54:01.459Z"
   },
   {
    "duration": 4,
    "start_time": "2023-04-07T01:54:03.907Z"
   },
   {
    "duration": 5,
    "start_time": "2023-04-07T01:54:15.016Z"
   },
   {
    "duration": 10,
    "start_time": "2023-04-07T01:54:24.740Z"
   },
   {
    "duration": 5,
    "start_time": "2023-04-07T01:54:28.457Z"
   },
   {
    "duration": 4,
    "start_time": "2023-04-07T01:55:15.877Z"
   },
   {
    "duration": 4,
    "start_time": "2023-04-07T01:58:03.155Z"
   },
   {
    "duration": 7,
    "start_time": "2023-04-07T01:58:27.874Z"
   },
   {
    "duration": 14,
    "start_time": "2023-04-07T01:58:33.702Z"
   },
   {
    "duration": 3,
    "start_time": "2023-04-07T01:58:48.916Z"
   },
   {
    "duration": 403,
    "start_time": "2023-04-07T01:58:48.923Z"
   },
   {
    "duration": 21,
    "start_time": "2023-04-07T01:58:49.328Z"
   },
   {
    "duration": 65,
    "start_time": "2023-04-07T01:58:49.351Z"
   },
   {
    "duration": 135,
    "start_time": "2023-04-07T01:58:49.417Z"
   },
   {
    "duration": 15,
    "start_time": "2023-04-07T01:58:49.555Z"
   },
   {
    "duration": 50,
    "start_time": "2023-04-07T01:58:49.587Z"
   },
   {
    "duration": 510,
    "start_time": "2023-04-07T01:58:49.638Z"
   },
   {
    "duration": 1042,
    "start_time": "2023-04-07T01:58:50.150Z"
   },
   {
    "duration": 561,
    "start_time": "2023-04-07T01:58:51.194Z"
   },
   {
    "duration": 46,
    "start_time": "2023-04-07T01:58:51.757Z"
   },
   {
    "duration": 335,
    "start_time": "2023-04-07T01:58:51.804Z"
   },
   {
    "duration": 1182,
    "start_time": "2023-04-07T01:58:52.141Z"
   },
   {
    "duration": 553,
    "start_time": "2023-04-07T01:58:53.325Z"
   },
   {
    "duration": 40,
    "start_time": "2023-04-07T01:58:53.884Z"
   },
   {
    "duration": 325,
    "start_time": "2023-04-07T01:58:53.926Z"
   },
   {
    "duration": 1191,
    "start_time": "2023-04-07T01:58:54.253Z"
   },
   {
    "duration": 587,
    "start_time": "2023-04-07T01:58:55.446Z"
   },
   {
    "duration": 25,
    "start_time": "2023-04-07T01:58:56.034Z"
   },
   {
    "duration": 5,
    "start_time": "2023-04-07T01:58:56.060Z"
   },
   {
    "duration": 8,
    "start_time": "2023-04-07T01:58:56.082Z"
   },
   {
    "duration": 24,
    "start_time": "2023-04-07T01:58:56.097Z"
   },
   {
    "duration": 16,
    "start_time": "2023-04-07T01:58:56.123Z"
   },
   {
    "duration": 8,
    "start_time": "2023-04-07T01:58:56.141Z"
   },
   {
    "duration": 12,
    "start_time": "2023-04-07T01:59:35.072Z"
   },
   {
    "duration": 8,
    "start_time": "2023-04-07T01:59:36.058Z"
   },
   {
    "duration": 3,
    "start_time": "2023-04-07T01:59:42.499Z"
   },
   {
    "duration": 379,
    "start_time": "2023-04-07T01:59:42.506Z"
   },
   {
    "duration": 22,
    "start_time": "2023-04-07T01:59:42.894Z"
   },
   {
    "duration": 36,
    "start_time": "2023-04-07T01:59:42.918Z"
   },
   {
    "duration": 119,
    "start_time": "2023-04-07T01:59:42.955Z"
   },
   {
    "duration": 22,
    "start_time": "2023-04-07T01:59:43.076Z"
   },
   {
    "duration": 43,
    "start_time": "2023-04-07T01:59:43.099Z"
   },
   {
    "duration": 380,
    "start_time": "2023-04-07T01:59:43.143Z"
   },
   {
    "duration": 1089,
    "start_time": "2023-04-07T01:59:43.525Z"
   },
   {
    "duration": 556,
    "start_time": "2023-04-07T01:59:44.616Z"
   },
   {
    "duration": 49,
    "start_time": "2023-04-07T01:59:45.173Z"
   },
   {
    "duration": 315,
    "start_time": "2023-04-07T01:59:45.224Z"
   },
   {
    "duration": 967,
    "start_time": "2023-04-07T01:59:45.541Z"
   },
   {
    "duration": 638,
    "start_time": "2023-04-07T01:59:46.509Z"
   },
   {
    "duration": 46,
    "start_time": "2023-04-07T01:59:47.151Z"
   },
   {
    "duration": 335,
    "start_time": "2023-04-07T01:59:47.199Z"
   },
   {
    "duration": 981,
    "start_time": "2023-04-07T01:59:47.535Z"
   },
   {
    "duration": 529,
    "start_time": "2023-04-07T01:59:48.517Z"
   },
   {
    "duration": 23,
    "start_time": "2023-04-07T01:59:49.047Z"
   },
   {
    "duration": 14,
    "start_time": "2023-04-07T01:59:49.072Z"
   },
   {
    "duration": 41,
    "start_time": "2023-04-07T01:59:49.088Z"
   },
   {
    "duration": 43,
    "start_time": "2023-04-07T01:59:49.158Z"
   },
   {
    "duration": 24,
    "start_time": "2023-04-07T01:59:49.203Z"
   },
   {
    "duration": 22,
    "start_time": "2023-04-07T01:59:49.228Z"
   },
   {
    "duration": 4,
    "start_time": "2023-04-07T01:59:57.557Z"
   },
   {
    "duration": 4,
    "start_time": "2023-04-07T02:02:40.323Z"
   },
   {
    "duration": 8,
    "start_time": "2023-04-07T02:02:42.150Z"
   },
   {
    "duration": 3,
    "start_time": "2023-04-07T02:02:47.244Z"
   },
   {
    "duration": 397,
    "start_time": "2023-04-07T02:02:47.251Z"
   },
   {
    "duration": 22,
    "start_time": "2023-04-07T02:02:47.650Z"
   },
   {
    "duration": 53,
    "start_time": "2023-04-07T02:02:47.673Z"
   },
   {
    "duration": 126,
    "start_time": "2023-04-07T02:02:47.728Z"
   },
   {
    "duration": 13,
    "start_time": "2023-04-07T02:02:47.856Z"
   },
   {
    "duration": 64,
    "start_time": "2023-04-07T02:02:47.871Z"
   },
   {
    "duration": 480,
    "start_time": "2023-04-07T02:02:47.937Z"
   },
   {
    "duration": 972,
    "start_time": "2023-04-07T02:02:48.418Z"
   },
   {
    "duration": 535,
    "start_time": "2023-04-07T02:02:49.391Z"
   },
   {
    "duration": 34,
    "start_time": "2023-04-07T02:02:49.927Z"
   },
   {
    "duration": 361,
    "start_time": "2023-04-07T02:02:49.962Z"
   },
   {
    "duration": 1081,
    "start_time": "2023-04-07T02:02:50.325Z"
   },
   {
    "duration": 521,
    "start_time": "2023-04-07T02:02:51.408Z"
   },
   {
    "duration": 33,
    "start_time": "2023-04-07T02:02:51.933Z"
   },
   {
    "duration": 343,
    "start_time": "2023-04-07T02:02:51.984Z"
   },
   {
    "duration": 1130,
    "start_time": "2023-04-07T02:02:52.329Z"
   },
   {
    "duration": 543,
    "start_time": "2023-04-07T02:02:53.461Z"
   },
   {
    "duration": 26,
    "start_time": "2023-04-07T02:02:54.006Z"
   },
   {
    "duration": 7,
    "start_time": "2023-04-07T02:02:54.034Z"
   },
   {
    "duration": 30,
    "start_time": "2023-04-07T02:02:54.043Z"
   },
   {
    "duration": 19,
    "start_time": "2023-04-07T02:02:54.074Z"
   },
   {
    "duration": 29,
    "start_time": "2023-04-07T02:02:54.095Z"
   },
   {
    "duration": 12,
    "start_time": "2023-04-07T02:02:54.126Z"
   },
   {
    "duration": 32,
    "start_time": "2023-04-07T02:02:54.140Z"
   },
   {
    "duration": 43,
    "start_time": "2023-04-07T02:07:48.963Z"
   },
   {
    "duration": 22,
    "start_time": "2023-04-07T02:40:31.096Z"
   },
   {
    "duration": 7,
    "start_time": "2023-04-07T02:41:32.283Z"
   },
   {
    "duration": 3,
    "start_time": "2023-04-07T02:53:47.232Z"
   },
   {
    "duration": 4,
    "start_time": "2023-04-07T02:54:52.442Z"
   },
   {
    "duration": 5,
    "start_time": "2023-04-07T02:58:23.943Z"
   },
   {
    "duration": 3,
    "start_time": "2023-04-07T02:58:57.272Z"
   },
   {
    "duration": 4,
    "start_time": "2023-04-07T02:59:08.558Z"
   },
   {
    "duration": 5,
    "start_time": "2023-04-07T02:59:32.878Z"
   },
   {
    "duration": 20,
    "start_time": "2023-04-07T03:04:21.893Z"
   },
   {
    "duration": 5,
    "start_time": "2023-04-07T03:04:35.220Z"
   },
   {
    "duration": 11,
    "start_time": "2023-04-07T03:04:36.039Z"
   },
   {
    "duration": 14,
    "start_time": "2023-04-07T03:05:09.044Z"
   },
   {
    "duration": 17,
    "start_time": "2023-04-07T03:05:29.414Z"
   },
   {
    "duration": 4,
    "start_time": "2023-04-07T03:06:36.118Z"
   },
   {
    "duration": 16,
    "start_time": "2023-04-07T03:06:38.754Z"
   },
   {
    "duration": 5,
    "start_time": "2023-04-07T03:07:35.639Z"
   },
   {
    "duration": 30,
    "start_time": "2023-04-07T03:07:36.676Z"
   },
   {
    "duration": 19,
    "start_time": "2023-04-07T03:08:22.796Z"
   },
   {
    "duration": 7,
    "start_time": "2023-04-07T03:08:58.598Z"
   },
   {
    "duration": 5,
    "start_time": "2023-04-07T03:09:14.270Z"
   },
   {
    "duration": 18,
    "start_time": "2023-04-07T03:09:14.996Z"
   },
   {
    "duration": 5,
    "start_time": "2023-04-07T03:09:20.615Z"
   },
   {
    "duration": 18,
    "start_time": "2023-04-07T03:09:23.212Z"
   },
   {
    "duration": 105,
    "start_time": "2023-04-07T03:09:44.145Z"
   },
   {
    "duration": 5,
    "start_time": "2023-04-07T03:10:12.870Z"
   },
   {
    "duration": 83,
    "start_time": "2023-04-07T03:10:13.504Z"
   },
   {
    "duration": 18,
    "start_time": "2023-04-07T03:10:23.897Z"
   },
   {
    "duration": 24,
    "start_time": "2023-04-07T03:11:56.282Z"
   },
   {
    "duration": 18,
    "start_time": "2023-04-07T03:13:19.723Z"
   },
   {
    "duration": 142,
    "start_time": "2023-04-07T07:15:33.144Z"
   },
   {
    "duration": 20,
    "start_time": "2023-04-07T07:15:54.127Z"
   },
   {
    "duration": 16,
    "start_time": "2023-04-07T07:16:19.871Z"
   },
   {
    "duration": 34,
    "start_time": "2023-04-07T07:16:20.274Z"
   },
   {
    "duration": 42,
    "start_time": "2023-04-07T07:16:22.965Z"
   },
   {
    "duration": 21,
    "start_time": "2023-04-07T07:16:24.558Z"
   },
   {
    "duration": 34,
    "start_time": "2023-04-07T07:16:36.571Z"
   },
   {
    "duration": 6,
    "start_time": "2023-04-07T07:17:26.070Z"
   },
   {
    "duration": 36,
    "start_time": "2023-04-07T07:17:26.473Z"
   },
   {
    "duration": 86,
    "start_time": "2023-04-07T07:17:31.299Z"
   },
   {
    "duration": 18,
    "start_time": "2023-04-07T07:17:31.959Z"
   },
   {
    "duration": 50,
    "start_time": "2023-04-07T07:18:49.939Z"
   },
   {
    "duration": 83,
    "start_time": "2023-04-07T07:19:16.206Z"
   },
   {
    "duration": 66,
    "start_time": "2023-04-07T07:32:31.341Z"
   },
   {
    "duration": 154,
    "start_time": "2023-04-07T07:32:43.834Z"
   },
   {
    "duration": 24,
    "start_time": "2023-04-07T07:32:52.214Z"
   },
   {
    "duration": 17,
    "start_time": "2023-04-07T07:33:09.031Z"
   },
   {
    "duration": 75,
    "start_time": "2023-04-07T07:33:59.410Z"
   },
   {
    "duration": 5,
    "start_time": "2023-04-07T07:34:12.074Z"
   },
   {
    "duration": 132,
    "start_time": "2023-04-07T07:34:45.557Z"
   },
   {
    "duration": 26,
    "start_time": "2023-04-07T07:34:57.322Z"
   },
   {
    "duration": 18,
    "start_time": "2023-04-07T07:35:36.358Z"
   },
   {
    "duration": 4,
    "start_time": "2023-04-07T07:36:33.970Z"
   },
   {
    "duration": 78,
    "start_time": "2023-04-07T07:37:02.504Z"
   },
   {
    "duration": 26,
    "start_time": "2023-04-07T07:37:13.206Z"
   },
   {
    "duration": 20,
    "start_time": "2023-04-07T07:37:13.913Z"
   },
   {
    "duration": 96,
    "start_time": "2023-04-07T07:37:14.303Z"
   },
   {
    "duration": 135,
    "start_time": "2023-04-07T07:38:37.661Z"
   },
   {
    "duration": 51,
    "start_time": "2023-04-07T07:40:54.435Z"
   },
   {
    "duration": 10,
    "start_time": "2023-04-07T07:41:50.562Z"
   },
   {
    "duration": 79,
    "start_time": "2023-04-07T07:41:55.611Z"
   },
   {
    "duration": 22,
    "start_time": "2023-04-07T07:41:55.841Z"
   },
   {
    "duration": 22,
    "start_time": "2023-04-07T07:41:56.110Z"
   },
   {
    "duration": 18,
    "start_time": "2023-04-07T07:41:56.820Z"
   },
   {
    "duration": 189,
    "start_time": "2023-04-07T07:43:01.608Z"
   },
   {
    "duration": 180,
    "start_time": "2023-04-07T07:43:22.924Z"
   },
   {
    "duration": 186,
    "start_time": "2023-04-07T07:43:35.210Z"
   },
   {
    "duration": 79,
    "start_time": "2023-04-07T07:43:45.825Z"
   },
   {
    "duration": 1482,
    "start_time": "2023-04-10T01:07:31.162Z"
   },
   {
    "duration": 1443,
    "start_time": "2023-04-10T01:07:32.646Z"
   },
   {
    "duration": 23,
    "start_time": "2023-04-10T01:07:34.091Z"
   },
   {
    "duration": 40,
    "start_time": "2023-04-10T01:07:34.116Z"
   },
   {
    "duration": 123,
    "start_time": "2023-04-10T01:07:34.157Z"
   },
   {
    "duration": 16,
    "start_time": "2023-04-10T01:07:34.282Z"
   },
   {
    "duration": 50,
    "start_time": "2023-04-10T01:07:34.299Z"
   },
   {
    "duration": 451,
    "start_time": "2023-04-10T01:07:34.350Z"
   },
   {
    "duration": 988,
    "start_time": "2023-04-10T01:07:34.802Z"
   },
   {
    "duration": 395,
    "start_time": "2023-04-10T01:07:35.793Z"
   },
   {
    "duration": 32,
    "start_time": "2023-04-10T01:07:36.189Z"
   },
   {
    "duration": 346,
    "start_time": "2023-04-10T01:07:36.223Z"
   },
   {
    "duration": 1059,
    "start_time": "2023-04-10T01:07:36.571Z"
   },
   {
    "duration": 492,
    "start_time": "2023-04-10T01:07:37.634Z"
   },
   {
    "duration": 38,
    "start_time": "2023-04-10T01:07:38.128Z"
   },
   {
    "duration": 305,
    "start_time": "2023-04-10T01:07:38.168Z"
   },
   {
    "duration": 964,
    "start_time": "2023-04-10T01:07:38.475Z"
   },
   {
    "duration": 628,
    "start_time": "2023-04-10T01:07:39.441Z"
   },
   {
    "duration": 26,
    "start_time": "2023-04-10T01:07:40.071Z"
   },
   {
    "duration": 7,
    "start_time": "2023-04-10T01:07:40.099Z"
   },
   {
    "duration": 22,
    "start_time": "2023-04-10T01:07:40.107Z"
   },
   {
    "duration": 44,
    "start_time": "2023-04-10T01:07:40.134Z"
   },
   {
    "duration": 4,
    "start_time": "2023-04-10T01:07:40.179Z"
   },
   {
    "duration": 163,
    "start_time": "2023-04-10T01:07:40.184Z"
   },
   {
    "duration": 384,
    "start_time": "2023-04-10T01:07:40.351Z"
   },
   {
    "duration": 0,
    "start_time": "2023-04-10T01:07:40.737Z"
   },
   {
    "duration": 0,
    "start_time": "2023-04-10T01:07:40.738Z"
   },
   {
    "duration": 18,
    "start_time": "2023-04-10T01:07:54.448Z"
   },
   {
    "duration": 19,
    "start_time": "2023-04-10T01:07:55.479Z"
   },
   {
    "duration": 14,
    "start_time": "2023-04-10T01:07:57.610Z"
   },
   {
    "duration": 31,
    "start_time": "2023-04-10T01:22:41.005Z"
   },
   {
    "duration": 22,
    "start_time": "2023-04-10T02:21:15.136Z"
   },
   {
    "duration": 95,
    "start_time": "2023-04-10T02:26:44.545Z"
   },
   {
    "duration": 17,
    "start_time": "2023-04-10T02:26:52.258Z"
   },
   {
    "duration": 56,
    "start_time": "2023-04-10T02:27:01.079Z"
   },
   {
    "duration": 10,
    "start_time": "2023-04-10T05:32:13.376Z"
   },
   {
    "duration": 4,
    "start_time": "2023-04-10T05:34:33.202Z"
   },
   {
    "duration": 3,
    "start_time": "2023-04-10T06:02:11.147Z"
   },
   {
    "duration": 19,
    "start_time": "2023-04-10T06:02:14.581Z"
   },
   {
    "duration": 2,
    "start_time": "2023-04-10T06:04:09.614Z"
   },
   {
    "duration": 4,
    "start_time": "2023-04-10T06:04:10.111Z"
   },
   {
    "duration": 2,
    "start_time": "2023-04-10T06:04:58.347Z"
   },
   {
    "duration": 4,
    "start_time": "2023-04-10T06:05:01.270Z"
   },
   {
    "duration": 3,
    "start_time": "2023-04-10T06:06:49.227Z"
   },
   {
    "duration": 4,
    "start_time": "2023-04-10T06:09:27.928Z"
   },
   {
    "duration": 3,
    "start_time": "2023-04-10T06:09:53.208Z"
   },
   {
    "duration": 4,
    "start_time": "2023-04-10T06:09:56.901Z"
   },
   {
    "duration": 3,
    "start_time": "2023-04-10T06:10:55.381Z"
   },
   {
    "duration": 62,
    "start_time": "2023-04-10T06:13:22.445Z"
   },
   {
    "duration": 1488,
    "start_time": "2023-04-10T06:13:55.106Z"
   },
   {
    "duration": 1519,
    "start_time": "2023-04-10T06:13:56.597Z"
   },
   {
    "duration": 31,
    "start_time": "2023-04-10T06:13:58.118Z"
   },
   {
    "duration": 53,
    "start_time": "2023-04-10T06:13:58.151Z"
   },
   {
    "duration": 140,
    "start_time": "2023-04-10T06:13:58.206Z"
   },
   {
    "duration": 17,
    "start_time": "2023-04-10T06:13:58.348Z"
   },
   {
    "duration": 55,
    "start_time": "2023-04-10T06:13:58.367Z"
   },
   {
    "duration": 571,
    "start_time": "2023-04-10T06:13:58.424Z"
   },
   {
    "duration": 2209,
    "start_time": "2023-04-10T06:13:58.996Z"
   },
   {
    "duration": 462,
    "start_time": "2023-04-10T06:14:01.208Z"
   },
   {
    "duration": 49,
    "start_time": "2023-04-10T06:14:01.671Z"
   },
   {
    "duration": 459,
    "start_time": "2023-04-10T06:14:01.722Z"
   },
   {
    "duration": 1190,
    "start_time": "2023-04-10T06:14:02.183Z"
   },
   {
    "duration": 561,
    "start_time": "2023-04-10T06:14:03.383Z"
   },
   {
    "duration": 51,
    "start_time": "2023-04-10T06:14:03.946Z"
   },
   {
    "duration": 356,
    "start_time": "2023-04-10T06:14:03.999Z"
   },
   {
    "duration": 1194,
    "start_time": "2023-04-10T06:14:04.357Z"
   },
   {
    "duration": 687,
    "start_time": "2023-04-10T06:14:05.553Z"
   },
   {
    "duration": 40,
    "start_time": "2023-04-10T06:14:06.243Z"
   },
   {
    "duration": 10,
    "start_time": "2023-04-10T06:14:06.285Z"
   },
   {
    "duration": 16,
    "start_time": "2023-04-10T06:14:06.297Z"
   },
   {
    "duration": 66,
    "start_time": "2023-04-10T06:14:06.315Z"
   },
   {
    "duration": 4,
    "start_time": "2023-04-10T06:14:06.384Z"
   },
   {
    "duration": 195,
    "start_time": "2023-04-10T06:14:06.389Z"
   },
   {
    "duration": 108,
    "start_time": "2023-04-10T06:14:06.586Z"
   },
   {
    "duration": 125,
    "start_time": "2023-04-10T06:14:06.696Z"
   },
   {
    "duration": 162,
    "start_time": "2023-04-10T06:14:06.823Z"
   },
   {
    "duration": 25,
    "start_time": "2023-04-10T06:14:06.988Z"
   },
   {
    "duration": 3,
    "start_time": "2023-04-11T00:50:27.172Z"
   },
   {
    "duration": 400,
    "start_time": "2023-04-11T00:50:27.179Z"
   },
   {
    "duration": 22,
    "start_time": "2023-04-11T00:50:27.582Z"
   },
   {
    "duration": 40,
    "start_time": "2023-04-11T00:50:27.606Z"
   },
   {
    "duration": 148,
    "start_time": "2023-04-11T00:50:27.648Z"
   },
   {
    "duration": 14,
    "start_time": "2023-04-11T00:50:27.799Z"
   },
   {
    "duration": 43,
    "start_time": "2023-04-11T00:50:27.815Z"
   },
   {
    "duration": 358,
    "start_time": "2023-04-11T00:50:27.860Z"
   },
   {
    "duration": 994,
    "start_time": "2023-04-11T00:50:28.219Z"
   },
   {
    "duration": 526,
    "start_time": "2023-04-11T00:50:29.215Z"
   },
   {
    "duration": 47,
    "start_time": "2023-04-11T00:50:29.743Z"
   },
   {
    "duration": 341,
    "start_time": "2023-04-11T00:50:29.792Z"
   },
   {
    "duration": 1103,
    "start_time": "2023-04-11T00:50:30.135Z"
   },
   {
    "duration": 504,
    "start_time": "2023-04-11T00:50:31.240Z"
   },
   {
    "duration": 44,
    "start_time": "2023-04-11T00:50:31.747Z"
   },
   {
    "duration": 336,
    "start_time": "2023-04-11T00:50:31.792Z"
   },
   {
    "duration": 1068,
    "start_time": "2023-04-11T00:50:32.131Z"
   },
   {
    "duration": 521,
    "start_time": "2023-04-11T00:50:33.201Z"
   },
   {
    "duration": 26,
    "start_time": "2023-04-11T00:50:33.723Z"
   },
   {
    "duration": 7,
    "start_time": "2023-04-11T00:50:33.750Z"
   },
   {
    "duration": 39,
    "start_time": "2023-04-11T00:50:33.758Z"
   },
   {
    "duration": 59,
    "start_time": "2023-04-11T00:50:33.799Z"
   },
   {
    "duration": 3,
    "start_time": "2023-04-11T00:50:33.859Z"
   },
   {
    "duration": 22,
    "start_time": "2023-04-11T00:50:33.864Z"
   },
   {
    "duration": 210,
    "start_time": "2023-04-11T00:50:33.888Z"
   },
   {
    "duration": 197,
    "start_time": "2023-04-11T00:50:34.100Z"
   },
   {
    "duration": 185,
    "start_time": "2023-04-11T00:50:34.302Z"
   },
   {
    "duration": 28,
    "start_time": "2023-04-11T00:50:34.489Z"
   },
   {
    "duration": 8,
    "start_time": "2023-04-11T01:13:39.552Z"
   },
   {
    "duration": 2,
    "start_time": "2023-04-11T01:25:31.503Z"
   },
   {
    "duration": 3,
    "start_time": "2023-04-11T02:54:14.162Z"
   },
   {
    "duration": 4,
    "start_time": "2023-04-11T02:55:17.486Z"
   },
   {
    "duration": 4,
    "start_time": "2023-04-11T02:56:07.323Z"
   },
   {
    "duration": 1211,
    "start_time": "2023-04-11T02:57:14.654Z"
   },
   {
    "duration": 1170,
    "start_time": "2023-04-11T02:57:24.967Z"
   },
   {
    "duration": 3,
    "start_time": "2023-04-11T02:57:52.501Z"
   },
   {
    "duration": 3,
    "start_time": "2023-04-11T02:57:52.674Z"
   },
   {
    "duration": 1185,
    "start_time": "2023-04-11T02:57:52.824Z"
   },
   {
    "duration": 1209,
    "start_time": "2023-04-11T02:57:55.820Z"
   },
   {
    "duration": 3,
    "start_time": "2023-04-11T03:00:33.397Z"
   },
   {
    "duration": 1189,
    "start_time": "2023-04-11T03:00:35.518Z"
   },
   {
    "duration": 3767,
    "start_time": "2023-04-11T03:05:43.224Z"
   },
   {
    "duration": 5,
    "start_time": "2023-04-11T03:06:11.253Z"
   },
   {
    "duration": 3,
    "start_time": "2023-04-11T03:12:18.491Z"
   },
   {
    "duration": 7,
    "start_time": "2023-04-11T03:14:39.795Z"
   },
   {
    "duration": 5,
    "start_time": "2023-04-11T03:15:14.998Z"
   },
   {
    "duration": 5,
    "start_time": "2023-04-11T03:16:46.161Z"
   },
   {
    "duration": 5,
    "start_time": "2023-04-11T03:16:51.871Z"
   },
   {
    "duration": 1492,
    "start_time": "2023-04-11T03:17:37.842Z"
   },
   {
    "duration": 396,
    "start_time": "2023-04-11T03:17:39.336Z"
   },
   {
    "duration": 32,
    "start_time": "2023-04-11T03:17:39.733Z"
   },
   {
    "duration": 59,
    "start_time": "2023-04-11T03:17:39.767Z"
   },
   {
    "duration": 142,
    "start_time": "2023-04-11T03:17:39.829Z"
   },
   {
    "duration": 20,
    "start_time": "2023-04-11T03:17:39.972Z"
   },
   {
    "duration": 39,
    "start_time": "2023-04-11T03:17:39.994Z"
   },
   {
    "duration": 377,
    "start_time": "2023-04-11T03:17:40.035Z"
   },
   {
    "duration": 961,
    "start_time": "2023-04-11T03:17:40.414Z"
   },
   {
    "duration": 438,
    "start_time": "2023-04-11T03:17:41.378Z"
   },
   {
    "duration": 34,
    "start_time": "2023-04-11T03:17:41.817Z"
   },
   {
    "duration": 351,
    "start_time": "2023-04-11T03:17:41.853Z"
   },
   {
    "duration": 1055,
    "start_time": "2023-04-11T03:17:42.205Z"
   },
   {
    "duration": 495,
    "start_time": "2023-04-11T03:17:43.262Z"
   },
   {
    "duration": 43,
    "start_time": "2023-04-11T03:17:43.759Z"
   },
   {
    "duration": 316,
    "start_time": "2023-04-11T03:17:43.804Z"
   },
   {
    "duration": 955,
    "start_time": "2023-04-11T03:17:44.121Z"
   },
   {
    "duration": 735,
    "start_time": "2023-04-11T03:17:45.078Z"
   },
   {
    "duration": 26,
    "start_time": "2023-04-11T03:17:45.814Z"
   },
   {
    "duration": 12,
    "start_time": "2023-04-11T03:17:45.841Z"
   },
   {
    "duration": 31,
    "start_time": "2023-04-11T03:17:45.854Z"
   },
   {
    "duration": 56,
    "start_time": "2023-04-11T03:17:45.887Z"
   },
   {
    "duration": 4,
    "start_time": "2023-04-11T03:17:45.944Z"
   },
   {
    "duration": 37,
    "start_time": "2023-04-11T03:17:45.949Z"
   },
   {
    "duration": 202,
    "start_time": "2023-04-11T03:17:45.988Z"
   },
   {
    "duration": 196,
    "start_time": "2023-04-11T03:17:46.192Z"
   },
   {
    "duration": 3,
    "start_time": "2023-04-11T03:17:46.390Z"
   },
   {
    "duration": 100,
    "start_time": "2023-04-11T03:17:46.487Z"
   },
   {
    "duration": 34,
    "start_time": "2023-04-11T03:17:46.589Z"
   },
   {
    "duration": 3632,
    "start_time": "2023-04-11T03:17:46.624Z"
   },
   {
    "duration": 5,
    "start_time": "2023-04-11T03:17:50.257Z"
   },
   {
    "duration": 34,
    "start_time": "2023-04-11T03:17:50.263Z"
   },
   {
    "duration": 5,
    "start_time": "2023-04-11T03:35:37.997Z"
   },
   {
    "duration": 6,
    "start_time": "2023-04-11T03:35:41.038Z"
   },
   {
    "duration": 5,
    "start_time": "2023-04-11T03:35:47.078Z"
   },
   {
    "duration": 3861,
    "start_time": "2023-04-11T03:35:48.205Z"
   },
   {
    "duration": 5,
    "start_time": "2023-04-11T03:35:52.068Z"
   },
   {
    "duration": 5,
    "start_time": "2023-04-11T03:35:52.083Z"
   },
   {
    "duration": 6,
    "start_time": "2023-04-11T03:38:48.838Z"
   },
   {
    "duration": 6,
    "start_time": "2023-04-11T03:38:49.634Z"
   },
   {
    "duration": 5,
    "start_time": "2023-04-11T03:39:02.651Z"
   },
   {
    "duration": 3660,
    "start_time": "2023-04-11T03:39:04.720Z"
   },
   {
    "duration": 5,
    "start_time": "2023-04-11T03:39:08.382Z"
   },
   {
    "duration": 12,
    "start_time": "2023-04-11T03:39:08.389Z"
   },
   {
    "duration": 5,
    "start_time": "2023-04-11T04:18:33.043Z"
   },
   {
    "duration": 5,
    "start_time": "2023-04-11T04:18:33.433Z"
   },
   {
    "duration": 5,
    "start_time": "2023-04-11T04:19:39.215Z"
   },
   {
    "duration": 3891,
    "start_time": "2023-04-11T04:19:39.700Z"
   },
   {
    "duration": 5,
    "start_time": "2023-04-11T04:19:43.593Z"
   },
   {
    "duration": 8,
    "start_time": "2023-04-11T04:19:43.600Z"
   },
   {
    "duration": 6,
    "start_time": "2023-04-11T04:22:15.407Z"
   },
   {
    "duration": 107,
    "start_time": "2023-04-11T04:24:06.706Z"
   },
   {
    "duration": 6,
    "start_time": "2023-04-11T04:25:19.277Z"
   },
   {
    "duration": 3975,
    "start_time": "2023-04-11T04:25:19.811Z"
   },
   {
    "duration": 9,
    "start_time": "2023-04-11T04:25:23.788Z"
   },
   {
    "duration": 6,
    "start_time": "2023-04-11T04:25:39.096Z"
   },
   {
    "duration": 3951,
    "start_time": "2023-04-11T04:25:39.806Z"
   },
   {
    "duration": 5,
    "start_time": "2023-04-11T04:25:43.759Z"
   },
   {
    "duration": 6,
    "start_time": "2023-04-11T04:25:45.816Z"
   },
   {
    "duration": 4,
    "start_time": "2023-04-11T04:26:48.867Z"
   },
   {
    "duration": 3814,
    "start_time": "2023-04-11T04:26:49.769Z"
   },
   {
    "duration": 73,
    "start_time": "2023-04-11T04:26:53.585Z"
   },
   {
    "duration": 10,
    "start_time": "2023-04-11T04:26:56.745Z"
   },
   {
    "duration": 5,
    "start_time": "2023-04-11T04:27:15.159Z"
   },
   {
    "duration": 4062,
    "start_time": "2023-04-11T04:27:15.788Z"
   },
   {
    "duration": 6,
    "start_time": "2023-04-11T04:27:19.852Z"
   },
   {
    "duration": 7,
    "start_time": "2023-04-11T04:27:24.058Z"
   },
   {
    "duration": 7,
    "start_time": "2023-04-11T04:27:40.259Z"
   },
   {
    "duration": 6,
    "start_time": "2023-04-11T04:27:44.028Z"
   },
   {
    "duration": 3863,
    "start_time": "2023-04-11T04:28:54.587Z"
   },
   {
    "duration": 3,
    "start_time": "2023-04-11T04:28:58.452Z"
   },
   {
    "duration": 12,
    "start_time": "2023-04-11T04:28:58.457Z"
   },
   {
    "duration": 3747,
    "start_time": "2023-04-11T04:35:18.161Z"
   },
   {
    "duration": 4,
    "start_time": "2023-04-11T04:35:21.910Z"
   },
   {
    "duration": 17,
    "start_time": "2023-04-11T04:35:21.916Z"
   },
   {
    "duration": 11,
    "start_time": "2023-04-11T04:36:12.837Z"
   },
   {
    "duration": 3914,
    "start_time": "2023-04-11T04:37:21.330Z"
   },
   {
    "duration": 4,
    "start_time": "2023-04-11T04:37:25.246Z"
   },
   {
    "duration": 15,
    "start_time": "2023-04-11T04:37:25.251Z"
   },
   {
    "duration": 23,
    "start_time": "2023-04-11T04:37:25.268Z"
   },
   {
    "duration": 9,
    "start_time": "2023-04-11T04:38:36.171Z"
   },
   {
    "duration": 4,
    "start_time": "2023-04-11T04:38:56.255Z"
   },
   {
    "duration": 3,
    "start_time": "2023-04-11T04:39:20.939Z"
   },
   {
    "duration": 7,
    "start_time": "2023-04-11T04:39:21.480Z"
   },
   {
    "duration": 9,
    "start_time": "2023-04-11T04:39:22.829Z"
   },
   {
    "duration": 4,
    "start_time": "2023-04-11T04:39:37.001Z"
   },
   {
    "duration": 9,
    "start_time": "2023-04-11T04:39:37.374Z"
   },
   {
    "duration": 14,
    "start_time": "2023-04-11T04:39:37.593Z"
   },
   {
    "duration": 5,
    "start_time": "2023-04-11T04:39:56.541Z"
   },
   {
    "duration": 8,
    "start_time": "2023-04-11T04:39:57.708Z"
   },
   {
    "duration": 9,
    "start_time": "2023-04-11T04:39:57.892Z"
   },
   {
    "duration": 5,
    "start_time": "2023-04-11T04:40:22.481Z"
   },
   {
    "duration": 7,
    "start_time": "2023-04-11T04:40:22.651Z"
   },
   {
    "duration": 10,
    "start_time": "2023-04-11T04:40:22.820Z"
   },
   {
    "duration": 5,
    "start_time": "2023-04-11T04:40:26.868Z"
   },
   {
    "duration": 8,
    "start_time": "2023-04-11T04:40:27.186Z"
   },
   {
    "duration": 11,
    "start_time": "2023-04-11T04:40:27.515Z"
   },
   {
    "duration": 10,
    "start_time": "2023-04-11T04:40:32.400Z"
   },
   {
    "duration": 12,
    "start_time": "2023-04-11T04:41:27.174Z"
   },
   {
    "duration": 4,
    "start_time": "2023-04-11T04:42:17.358Z"
   },
   {
    "duration": 3820,
    "start_time": "2023-04-11T04:42:17.802Z"
   },
   {
    "duration": 4,
    "start_time": "2023-04-11T04:42:21.624Z"
   },
   {
    "duration": 27,
    "start_time": "2023-04-11T04:42:21.629Z"
   },
   {
    "duration": 26,
    "start_time": "2023-04-11T04:42:21.658Z"
   },
   {
    "duration": 8,
    "start_time": "2023-04-11T04:42:26.793Z"
   },
   {
    "duration": 5,
    "start_time": "2023-04-11T04:43:13.396Z"
   },
   {
    "duration": 3705,
    "start_time": "2023-04-11T04:43:14.225Z"
   },
   {
    "duration": 4,
    "start_time": "2023-04-11T04:43:17.932Z"
   },
   {
    "duration": 19,
    "start_time": "2023-04-11T04:43:17.937Z"
   },
   {
    "duration": 15,
    "start_time": "2023-04-11T04:43:17.958Z"
   },
   {
    "duration": 10,
    "start_time": "2023-04-11T04:43:56.312Z"
   },
   {
    "duration": 10,
    "start_time": "2023-04-11T04:44:13.002Z"
   },
   {
    "duration": 10,
    "start_time": "2023-04-11T04:44:31.357Z"
   },
   {
    "duration": 6,
    "start_time": "2023-04-11T05:12:28.891Z"
   },
   {
    "duration": 4,
    "start_time": "2023-04-11T05:12:43.356Z"
   },
   {
    "duration": 7,
    "start_time": "2023-04-11T05:12:43.741Z"
   },
   {
    "duration": 11,
    "start_time": "2023-04-11T05:12:44.493Z"
   },
   {
    "duration": 10,
    "start_time": "2023-04-11T05:16:05.067Z"
   },
   {
    "duration": 19,
    "start_time": "2023-04-11T05:16:18.026Z"
   },
   {
    "duration": 16,
    "start_time": "2023-04-11T05:16:18.301Z"
   },
   {
    "duration": 15,
    "start_time": "2023-04-11T05:16:18.578Z"
   },
   {
    "duration": 10,
    "start_time": "2023-04-11T05:16:19.319Z"
   },
   {
    "duration": 12,
    "start_time": "2023-04-11T05:17:17.176Z"
   },
   {
    "duration": 11,
    "start_time": "2023-04-11T05:17:20.944Z"
   },
   {
    "duration": 10,
    "start_time": "2023-04-11T05:17:40.984Z"
   },
   {
    "duration": 11,
    "start_time": "2023-04-11T05:17:46.772Z"
   },
   {
    "duration": 15,
    "start_time": "2023-04-11T05:18:08.874Z"
   },
   {
    "duration": 11,
    "start_time": "2023-04-11T05:18:37.041Z"
   },
   {
    "duration": 12,
    "start_time": "2023-04-11T05:19:09.551Z"
   },
   {
    "duration": 13,
    "start_time": "2023-04-11T05:19:43.147Z"
   },
   {
    "duration": 8,
    "start_time": "2023-04-11T05:19:56.151Z"
   },
   {
    "duration": 1522,
    "start_time": "2023-04-11T05:20:47.060Z"
   },
   {
    "duration": 368,
    "start_time": "2023-04-11T05:20:48.584Z"
   },
   {
    "duration": 30,
    "start_time": "2023-04-11T05:20:48.954Z"
   },
   {
    "duration": 40,
    "start_time": "2023-04-11T05:20:48.986Z"
   },
   {
    "duration": 140,
    "start_time": "2023-04-11T05:20:49.028Z"
   },
   {
    "duration": 23,
    "start_time": "2023-04-11T05:20:49.169Z"
   },
   {
    "duration": 39,
    "start_time": "2023-04-11T05:20:49.194Z"
   },
   {
    "duration": 371,
    "start_time": "2023-04-11T05:20:49.235Z"
   },
   {
    "duration": 1075,
    "start_time": "2023-04-11T05:20:49.608Z"
   },
   {
    "duration": 433,
    "start_time": "2023-04-11T05:20:50.686Z"
   },
   {
    "duration": 38,
    "start_time": "2023-04-11T05:20:51.121Z"
   },
   {
    "duration": 367,
    "start_time": "2023-04-11T05:20:51.160Z"
   },
   {
    "duration": 1148,
    "start_time": "2023-04-11T05:20:51.529Z"
   },
   {
    "duration": 538,
    "start_time": "2023-04-11T05:20:52.679Z"
   },
   {
    "duration": 32,
    "start_time": "2023-04-11T05:20:53.219Z"
   },
   {
    "duration": 378,
    "start_time": "2023-04-11T05:20:53.253Z"
   },
   {
    "duration": 1037,
    "start_time": "2023-04-11T05:20:53.633Z"
   },
   {
    "duration": 767,
    "start_time": "2023-04-11T05:20:54.672Z"
   },
   {
    "duration": 25,
    "start_time": "2023-04-11T05:20:55.441Z"
   },
   {
    "duration": 6,
    "start_time": "2023-04-11T05:20:55.468Z"
   },
   {
    "duration": 9,
    "start_time": "2023-04-11T05:20:55.475Z"
   },
   {
    "duration": 40,
    "start_time": "2023-04-11T05:20:55.485Z"
   },
   {
    "duration": 4,
    "start_time": "2023-04-11T05:20:55.526Z"
   },
   {
    "duration": 52,
    "start_time": "2023-04-11T05:20:55.532Z"
   },
   {
    "duration": 108,
    "start_time": "2023-04-11T05:20:55.586Z"
   },
   {
    "duration": 191,
    "start_time": "2023-04-11T05:20:55.697Z"
   },
   {
    "duration": 202,
    "start_time": "2023-04-11T05:20:55.891Z"
   },
   {
    "duration": 22,
    "start_time": "2023-04-11T05:20:56.096Z"
   },
   {
    "duration": 36,
    "start_time": "2023-04-11T05:20:56.119Z"
   },
   {
    "duration": 44,
    "start_time": "2023-04-11T05:20:56.157Z"
   },
   {
    "duration": 4022,
    "start_time": "2023-04-11T05:20:56.203Z"
   },
   {
    "duration": 4,
    "start_time": "2023-04-11T05:21:00.226Z"
   },
   {
    "duration": 73,
    "start_time": "2023-04-11T05:21:00.232Z"
   },
   {
    "duration": 92,
    "start_time": "2023-04-11T05:21:00.307Z"
   },
   {
    "duration": 5,
    "start_time": "2023-04-11T05:49:10.283Z"
   },
   {
    "duration": 6,
    "start_time": "2023-04-11T05:49:58.486Z"
   },
   {
    "duration": 6,
    "start_time": "2023-04-11T05:51:22.939Z"
   },
   {
    "duration": 5,
    "start_time": "2023-04-11T05:51:31.894Z"
   },
   {
    "duration": 4,
    "start_time": "2023-04-11T05:51:39.466Z"
   },
   {
    "duration": 3,
    "start_time": "2023-04-11T05:53:42.288Z"
   },
   {
    "duration": 5,
    "start_time": "2023-04-11T05:53:45.227Z"
   },
   {
    "duration": 104,
    "start_time": "2023-04-11T05:56:19.407Z"
   },
   {
    "duration": 4,
    "start_time": "2023-04-11T05:56:37.533Z"
   },
   {
    "duration": 4,
    "start_time": "2023-04-11T05:56:50.083Z"
   },
   {
    "duration": 3,
    "start_time": "2023-04-11T05:56:53.336Z"
   },
   {
    "duration": 4,
    "start_time": "2023-04-11T05:57:10.569Z"
   },
   {
    "duration": 10,
    "start_time": "2023-04-11T05:57:49.079Z"
   },
   {
    "duration": 1450,
    "start_time": "2023-04-11T05:58:08.561Z"
   },
   {
    "duration": 390,
    "start_time": "2023-04-11T05:58:10.013Z"
   },
   {
    "duration": 27,
    "start_time": "2023-04-11T05:58:10.404Z"
   },
   {
    "duration": 58,
    "start_time": "2023-04-11T05:58:10.432Z"
   },
   {
    "duration": 137,
    "start_time": "2023-04-11T05:58:10.492Z"
   },
   {
    "duration": 17,
    "start_time": "2023-04-11T05:58:10.631Z"
   },
   {
    "duration": 65,
    "start_time": "2023-04-11T05:58:10.650Z"
   },
   {
    "duration": 339,
    "start_time": "2023-04-11T05:58:10.717Z"
   },
   {
    "duration": 1018,
    "start_time": "2023-04-11T05:58:11.058Z"
   },
   {
    "duration": 468,
    "start_time": "2023-04-11T05:58:12.079Z"
   },
   {
    "duration": 44,
    "start_time": "2023-04-11T05:58:12.549Z"
   },
   {
    "duration": 337,
    "start_time": "2023-04-11T05:58:12.595Z"
   },
   {
    "duration": 1159,
    "start_time": "2023-04-11T05:58:12.934Z"
   },
   {
    "duration": 527,
    "start_time": "2023-04-11T05:58:14.095Z"
   },
   {
    "duration": 34,
    "start_time": "2023-04-11T05:58:14.623Z"
   },
   {
    "duration": 386,
    "start_time": "2023-04-11T05:58:14.658Z"
   },
   {
    "duration": 1061,
    "start_time": "2023-04-11T05:58:15.047Z"
   },
   {
    "duration": 725,
    "start_time": "2023-04-11T05:58:16.109Z"
   },
   {
    "duration": 24,
    "start_time": "2023-04-11T05:58:16.836Z"
   },
   {
    "duration": 6,
    "start_time": "2023-04-11T05:58:16.861Z"
   },
   {
    "duration": 38,
    "start_time": "2023-04-11T05:58:16.883Z"
   },
   {
    "duration": 63,
    "start_time": "2023-04-11T05:58:16.922Z"
   },
   {
    "duration": 4,
    "start_time": "2023-04-11T05:58:16.986Z"
   },
   {
    "duration": 27,
    "start_time": "2023-04-11T05:58:16.991Z"
   },
   {
    "duration": 116,
    "start_time": "2023-04-11T05:58:17.085Z"
   },
   {
    "duration": 193,
    "start_time": "2023-04-11T05:58:17.203Z"
   },
   {
    "duration": 194,
    "start_time": "2023-04-11T05:58:17.399Z"
   },
   {
    "duration": 22,
    "start_time": "2023-04-11T05:58:17.596Z"
   },
   {
    "duration": 9,
    "start_time": "2023-04-11T05:58:17.620Z"
   },
   {
    "duration": 10,
    "start_time": "2023-04-11T05:58:17.631Z"
   },
   {
    "duration": 4095,
    "start_time": "2023-04-11T05:58:17.642Z"
   },
   {
    "duration": 4,
    "start_time": "2023-04-11T05:58:21.739Z"
   },
   {
    "duration": 20,
    "start_time": "2023-04-11T05:58:21.745Z"
   },
   {
    "duration": 14,
    "start_time": "2023-04-11T05:58:21.767Z"
   },
   {
    "duration": 22,
    "start_time": "2023-04-11T05:58:21.783Z"
   },
   {
    "duration": 13,
    "start_time": "2023-04-11T07:28:04.756Z"
   },
   {
    "duration": 1652,
    "start_time": "2023-04-11T07:44:10.468Z"
   },
   {
    "duration": 431,
    "start_time": "2023-04-11T07:44:12.122Z"
   },
   {
    "duration": 32,
    "start_time": "2023-04-11T07:44:12.555Z"
   },
   {
    "duration": 56,
    "start_time": "2023-04-11T07:44:12.592Z"
   },
   {
    "duration": 186,
    "start_time": "2023-04-11T07:44:12.650Z"
   },
   {
    "duration": 19,
    "start_time": "2023-04-11T07:44:12.838Z"
   },
   {
    "duration": 67,
    "start_time": "2023-04-11T07:44:12.859Z"
   },
   {
    "duration": 415,
    "start_time": "2023-04-11T07:44:12.927Z"
   },
   {
    "duration": 1214,
    "start_time": "2023-04-11T07:44:13.344Z"
   },
   {
    "duration": 549,
    "start_time": "2023-04-11T07:44:14.561Z"
   },
   {
    "duration": 41,
    "start_time": "2023-04-11T07:44:15.112Z"
   },
   {
    "duration": 408,
    "start_time": "2023-04-11T07:44:15.154Z"
   },
   {
    "duration": 1295,
    "start_time": "2023-04-11T07:44:15.564Z"
   },
   {
    "duration": 626,
    "start_time": "2023-04-11T07:44:16.860Z"
   },
   {
    "duration": 45,
    "start_time": "2023-04-11T07:44:17.488Z"
   },
   {
    "duration": 428,
    "start_time": "2023-04-11T07:44:17.534Z"
   },
   {
    "duration": 1200,
    "start_time": "2023-04-11T07:44:17.964Z"
   },
   {
    "duration": 769,
    "start_time": "2023-04-11T07:44:19.166Z"
   },
   {
    "duration": 28,
    "start_time": "2023-04-11T07:44:19.937Z"
   },
   {
    "duration": 20,
    "start_time": "2023-04-11T07:44:19.967Z"
   },
   {
    "duration": 36,
    "start_time": "2023-04-11T07:44:19.989Z"
   },
   {
    "duration": 71,
    "start_time": "2023-04-11T07:44:20.027Z"
   },
   {
    "duration": 7,
    "start_time": "2023-04-11T07:44:20.101Z"
   },
   {
    "duration": 38,
    "start_time": "2023-04-11T07:44:20.110Z"
   },
   {
    "duration": 166,
    "start_time": "2023-04-11T07:44:20.150Z"
   },
   {
    "duration": 129,
    "start_time": "2023-04-11T07:44:20.388Z"
   },
   {
    "duration": 116,
    "start_time": "2023-04-11T07:44:20.584Z"
   },
   {
    "duration": 16,
    "start_time": "2023-04-11T07:44:20.706Z"
   },
   {
    "duration": 20,
    "start_time": "2023-04-11T07:44:20.723Z"
   },
   {
    "duration": 32,
    "start_time": "2023-04-11T07:44:20.745Z"
   },
   {
    "duration": 4656,
    "start_time": "2023-04-11T07:44:20.778Z"
   },
   {
    "duration": 4,
    "start_time": "2023-04-11T07:44:25.436Z"
   },
   {
    "duration": 18,
    "start_time": "2023-04-11T07:44:25.442Z"
   },
   {
    "duration": 6,
    "start_time": "2023-04-11T07:44:25.461Z"
   },
   {
    "duration": 29,
    "start_time": "2023-04-11T07:44:25.468Z"
   },
   {
    "duration": 16,
    "start_time": "2023-04-11T07:51:26.152Z"
   },
   {
    "duration": 6,
    "start_time": "2023-04-11T08:11:56.886Z"
   },
   {
    "duration": 8,
    "start_time": "2023-04-11T08:12:06.737Z"
   },
   {
    "duration": 5,
    "start_time": "2023-04-11T08:12:12.932Z"
   },
   {
    "duration": 5,
    "start_time": "2023-04-11T08:12:26.331Z"
   },
   {
    "duration": 6,
    "start_time": "2023-04-11T08:12:39.198Z"
   },
   {
    "duration": 5,
    "start_time": "2023-04-11T08:13:12.335Z"
   },
   {
    "duration": 5,
    "start_time": "2023-04-11T08:13:21.881Z"
   },
   {
    "duration": 91,
    "start_time": "2023-04-11T08:14:01.686Z"
   },
   {
    "duration": 12,
    "start_time": "2023-04-12T00:40:22.296Z"
   },
   {
    "duration": 1354,
    "start_time": "2023-04-12T00:40:30.174Z"
   },
   {
    "duration": 352,
    "start_time": "2023-04-12T00:40:31.530Z"
   },
   {
    "duration": 23,
    "start_time": "2023-04-12T00:40:31.884Z"
   },
   {
    "duration": 36,
    "start_time": "2023-04-12T00:40:31.908Z"
   },
   {
    "duration": 143,
    "start_time": "2023-04-12T00:40:31.945Z"
   },
   {
    "duration": 16,
    "start_time": "2023-04-12T00:40:32.089Z"
   },
   {
    "duration": 42,
    "start_time": "2023-04-12T00:40:32.107Z"
   },
   {
    "duration": 359,
    "start_time": "2023-04-12T00:40:32.151Z"
   },
   {
    "duration": 935,
    "start_time": "2023-04-12T00:40:32.512Z"
   },
   {
    "duration": 408,
    "start_time": "2023-04-12T00:40:33.450Z"
   },
   {
    "duration": 37,
    "start_time": "2023-04-12T00:40:33.860Z"
   },
   {
    "duration": 305,
    "start_time": "2023-04-12T00:40:33.898Z"
   },
   {
    "duration": 1042,
    "start_time": "2023-04-12T00:40:34.204Z"
   },
   {
    "duration": 481,
    "start_time": "2023-04-12T00:40:35.248Z"
   },
   {
    "duration": 33,
    "start_time": "2023-04-12T00:40:35.731Z"
   },
   {
    "duration": 340,
    "start_time": "2023-04-12T00:40:35.766Z"
   },
   {
    "duration": 929,
    "start_time": "2023-04-12T00:40:36.107Z"
   },
   {
    "duration": 632,
    "start_time": "2023-04-12T00:40:37.038Z"
   },
   {
    "duration": 23,
    "start_time": "2023-04-12T00:40:37.683Z"
   },
   {
    "duration": 17,
    "start_time": "2023-04-12T00:40:37.708Z"
   },
   {
    "duration": 29,
    "start_time": "2023-04-12T00:40:37.726Z"
   },
   {
    "duration": 74,
    "start_time": "2023-04-12T00:40:37.757Z"
   },
   {
    "duration": 3,
    "start_time": "2023-04-12T00:40:37.833Z"
   },
   {
    "duration": 43,
    "start_time": "2023-04-12T00:40:37.837Z"
   },
   {
    "duration": 206,
    "start_time": "2023-04-12T00:40:37.884Z"
   },
   {
    "duration": 112,
    "start_time": "2023-04-12T00:40:38.183Z"
   },
   {
    "duration": 186,
    "start_time": "2023-04-12T00:40:38.299Z"
   },
   {
    "duration": 3,
    "start_time": "2023-04-12T00:40:38.488Z"
   },
   {
    "duration": 13,
    "start_time": "2023-04-12T00:40:38.492Z"
   },
   {
    "duration": 17,
    "start_time": "2023-04-12T00:40:38.507Z"
   },
   {
    "duration": 3774,
    "start_time": "2023-04-12T00:40:38.525Z"
   },
   {
    "duration": 4,
    "start_time": "2023-04-12T00:40:42.300Z"
   },
   {
    "duration": 10,
    "start_time": "2023-04-12T00:40:42.306Z"
   },
   {
    "duration": 5,
    "start_time": "2023-04-12T00:40:42.317Z"
   },
   {
    "duration": 13,
    "start_time": "2023-04-12T00:40:42.323Z"
   },
   {
    "duration": 241,
    "start_time": "2023-04-12T00:58:55.208Z"
   },
   {
    "duration": 265,
    "start_time": "2023-04-12T00:59:06.985Z"
   },
   {
    "duration": 280,
    "start_time": "2023-04-12T00:59:13.088Z"
   },
   {
    "duration": 262,
    "start_time": "2023-04-12T01:00:04.444Z"
   },
   {
    "duration": 1355,
    "start_time": "2023-04-12T01:00:34.102Z"
   },
   {
    "duration": 996,
    "start_time": "2023-04-12T01:01:14.429Z"
   },
   {
    "duration": 240,
    "start_time": "2023-04-12T01:01:18.129Z"
   },
   {
    "duration": 270,
    "start_time": "2023-04-12T01:03:16.656Z"
   },
   {
    "duration": 1104,
    "start_time": "2023-04-12T01:03:17.106Z"
   },
   {
    "duration": 495,
    "start_time": "2023-04-12T01:03:18.212Z"
   },
   {
    "duration": 9,
    "start_time": "2023-04-13T02:39:46.517Z"
   },
   {
    "duration": 51,
    "start_time": "2023-04-13T02:40:36.598Z"
   },
   {
    "duration": 1711,
    "start_time": "2023-04-13T02:40:40.046Z"
   },
   {
    "duration": 1693,
    "start_time": "2023-04-13T02:40:41.759Z"
   },
   {
    "duration": 23,
    "start_time": "2023-04-13T02:40:43.453Z"
   },
   {
    "duration": 37,
    "start_time": "2023-04-13T02:40:43.478Z"
   },
   {
    "duration": 142,
    "start_time": "2023-04-13T02:40:43.516Z"
   },
   {
    "duration": 19,
    "start_time": "2023-04-13T02:40:43.659Z"
   },
   {
    "duration": 47,
    "start_time": "2023-04-13T02:40:43.680Z"
   },
   {
    "duration": 334,
    "start_time": "2023-04-13T02:40:43.728Z"
   },
   {
    "duration": 902,
    "start_time": "2023-04-13T02:40:44.064Z"
   },
   {
    "duration": 426,
    "start_time": "2023-04-13T02:40:44.968Z"
   },
   {
    "duration": 13,
    "start_time": "2023-04-13T02:40:45.401Z"
   },
   {
    "duration": 43,
    "start_time": "2023-04-13T02:40:45.415Z"
   },
   {
    "duration": 556,
    "start_time": "2023-04-13T02:40:50.203Z"
   },
   {
    "duration": 4,
    "start_time": "2023-04-13T02:42:27.361Z"
   },
   {
    "duration": 449,
    "start_time": "2023-04-13T02:42:27.367Z"
   },
   {
    "duration": 19,
    "start_time": "2023-04-13T02:42:27.818Z"
   },
   {
    "duration": 61,
    "start_time": "2023-04-13T02:42:27.838Z"
   },
   {
    "duration": 121,
    "start_time": "2023-04-13T02:42:27.901Z"
   },
   {
    "duration": 13,
    "start_time": "2023-04-13T02:42:28.024Z"
   },
   {
    "duration": 54,
    "start_time": "2023-04-13T02:42:28.038Z"
   },
   {
    "duration": 284,
    "start_time": "2023-04-13T02:42:28.094Z"
   },
   {
    "duration": 1064,
    "start_time": "2023-04-13T02:42:28.380Z"
   },
   {
    "duration": 542,
    "start_time": "2023-04-13T02:42:29.445Z"
   },
   {
    "duration": 6,
    "start_time": "2023-04-13T02:42:29.990Z"
   },
   {
    "duration": 56,
    "start_time": "2023-04-13T02:42:30.002Z"
   },
   {
    "duration": 544,
    "start_time": "2023-04-13T02:42:30.060Z"
   },
   {
    "duration": 37,
    "start_time": "2023-04-13T02:42:30.606Z"
   },
   {
    "duration": 312,
    "start_time": "2023-04-13T02:42:30.645Z"
   },
   {
    "duration": 2215,
    "start_time": "2023-04-13T02:42:30.959Z"
   },
   {
    "duration": 1124,
    "start_time": "2023-04-13T02:42:33.176Z"
   },
   {
    "duration": 104,
    "start_time": "2023-04-13T02:42:34.309Z"
   },
   {
    "duration": 508,
    "start_time": "2023-04-13T02:42:34.415Z"
   },
   {
    "duration": 2135,
    "start_time": "2023-04-13T02:42:34.924Z"
   },
   {
    "duration": 589,
    "start_time": "2023-04-13T02:42:37.061Z"
   },
   {
    "duration": 54,
    "start_time": "2023-04-13T02:42:37.652Z"
   },
   {
    "duration": 7,
    "start_time": "2023-04-13T02:42:37.708Z"
   },
   {
    "duration": 7,
    "start_time": "2023-04-13T02:42:37.716Z"
   },
   {
    "duration": 41,
    "start_time": "2023-04-13T02:42:37.724Z"
   },
   {
    "duration": 22,
    "start_time": "2023-04-13T02:42:37.767Z"
   },
   {
    "duration": 192,
    "start_time": "2023-04-13T02:42:37.796Z"
   },
   {
    "duration": 19,
    "start_time": "2023-04-13T02:42:37.990Z"
   },
   {
    "duration": 186,
    "start_time": "2023-04-13T02:42:38.012Z"
   },
   {
    "duration": 179,
    "start_time": "2023-04-13T02:42:38.206Z"
   },
   {
    "duration": 14,
    "start_time": "2023-04-13T02:42:38.390Z"
   },
   {
    "duration": 11,
    "start_time": "2023-04-13T02:42:38.406Z"
   },
   {
    "duration": 6,
    "start_time": "2023-04-13T02:42:38.419Z"
   },
   {
    "duration": 3387,
    "start_time": "2023-04-13T02:42:38.427Z"
   },
   {
    "duration": 3,
    "start_time": "2023-04-13T02:42:41.816Z"
   },
   {
    "duration": 7,
    "start_time": "2023-04-13T02:42:41.821Z"
   },
   {
    "duration": 6,
    "start_time": "2023-04-13T02:42:41.830Z"
   },
   {
    "duration": 12,
    "start_time": "2023-04-13T02:42:41.838Z"
   },
   {
    "duration": 269,
    "start_time": "2023-04-13T03:25:52.491Z"
   },
   {
    "duration": 5,
    "start_time": "2023-04-13T03:26:03.290Z"
   },
   {
    "duration": 532,
    "start_time": "2023-04-13T03:26:03.299Z"
   },
   {
    "duration": 21,
    "start_time": "2023-04-13T03:26:03.833Z"
   },
   {
    "duration": 161,
    "start_time": "2023-04-13T03:26:03.855Z"
   },
   {
    "duration": 168,
    "start_time": "2023-04-13T03:26:04.019Z"
   },
   {
    "duration": 17,
    "start_time": "2023-04-13T03:26:04.189Z"
   },
   {
    "duration": 58,
    "start_time": "2023-04-13T03:26:04.209Z"
   },
   {
    "duration": 328,
    "start_time": "2023-04-13T03:26:04.270Z"
   },
   {
    "duration": 1126,
    "start_time": "2023-04-13T03:26:04.600Z"
   },
   {
    "duration": 839,
    "start_time": "2023-04-13T03:26:05.730Z"
   },
   {
    "duration": 5,
    "start_time": "2023-04-13T03:26:17.735Z"
   },
   {
    "duration": 38,
    "start_time": "2023-04-13T03:26:18.895Z"
   },
   {
    "duration": 589,
    "start_time": "2023-04-13T03:26:20.214Z"
   },
   {
    "duration": 13,
    "start_time": "2023-04-13T03:30:26.903Z"
   },
   {
    "duration": 6,
    "start_time": "2023-04-13T03:30:29.859Z"
   },
   {
    "duration": 81,
    "start_time": "2023-04-13T03:30:30.212Z"
   },
   {
    "duration": 585,
    "start_time": "2023-04-13T03:30:32.516Z"
   },
   {
    "duration": 3,
    "start_time": "2023-04-13T03:30:40.212Z"
   },
   {
    "duration": 376,
    "start_time": "2023-04-13T03:30:40.221Z"
   },
   {
    "duration": 22,
    "start_time": "2023-04-13T03:30:40.604Z"
   },
   {
    "duration": 56,
    "start_time": "2023-04-13T03:30:40.627Z"
   },
   {
    "duration": 134,
    "start_time": "2023-04-13T03:30:40.684Z"
   },
   {
    "duration": 11,
    "start_time": "2023-04-13T03:30:40.821Z"
   },
   {
    "duration": 53,
    "start_time": "2023-04-13T03:30:40.833Z"
   },
   {
    "duration": 278,
    "start_time": "2023-04-13T03:30:40.888Z"
   },
   {
    "duration": 1092,
    "start_time": "2023-04-13T03:30:41.168Z"
   },
   {
    "duration": 575,
    "start_time": "2023-04-13T03:30:42.261Z"
   },
   {
    "duration": 4,
    "start_time": "2023-04-13T03:30:42.838Z"
   },
   {
    "duration": 68,
    "start_time": "2023-04-13T03:30:42.935Z"
   },
   {
    "duration": 577,
    "start_time": "2023-04-13T03:30:43.005Z"
   },
   {
    "duration": 71,
    "start_time": "2023-04-13T03:31:19.755Z"
   },
   {
    "duration": 131,
    "start_time": "2023-04-13T03:31:38.058Z"
   },
   {
    "duration": 543,
    "start_time": "2023-04-13T03:31:46.466Z"
   },
   {
    "duration": 132,
    "start_time": "2023-04-13T03:32:26.357Z"
   },
   {
    "duration": 532,
    "start_time": "2023-04-13T03:32:40.096Z"
   },
   {
    "duration": 36,
    "start_time": "2023-04-13T03:32:46.075Z"
   },
   {
    "duration": 8,
    "start_time": "2023-04-13T03:32:47.140Z"
   },
   {
    "duration": 5,
    "start_time": "2023-04-13T03:32:52.265Z"
   },
   {
    "duration": 41,
    "start_time": "2023-04-13T03:32:56.544Z"
   },
   {
    "duration": 5,
    "start_time": "2023-04-13T03:32:57.991Z"
   },
   {
    "duration": 22,
    "start_time": "2023-04-13T03:32:58.671Z"
   },
   {
    "duration": 15,
    "start_time": "2023-04-13T03:32:59.110Z"
   },
   {
    "duration": 15,
    "start_time": "2023-04-13T03:32:59.409Z"
   },
   {
    "duration": 17,
    "start_time": "2023-04-13T03:32:59.770Z"
   },
   {
    "duration": 1484,
    "start_time": "2023-04-13T03:33:32.893Z"
   },
   {
    "duration": 392,
    "start_time": "2023-04-13T03:33:34.379Z"
   },
   {
    "duration": 28,
    "start_time": "2023-04-13T03:33:34.778Z"
   },
   {
    "duration": 47,
    "start_time": "2023-04-13T03:33:34.809Z"
   },
   {
    "duration": 149,
    "start_time": "2023-04-13T03:33:34.857Z"
   },
   {
    "duration": 14,
    "start_time": "2023-04-13T03:33:35.007Z"
   },
   {
    "duration": 38,
    "start_time": "2023-04-13T03:33:35.022Z"
   },
   {
    "duration": 332,
    "start_time": "2023-04-13T03:33:35.076Z"
   },
   {
    "duration": 1046,
    "start_time": "2023-04-13T03:33:35.410Z"
   },
   {
    "duration": 466,
    "start_time": "2023-04-13T03:33:36.459Z"
   },
   {
    "duration": 5,
    "start_time": "2023-04-13T03:33:36.926Z"
   },
   {
    "duration": 73,
    "start_time": "2023-04-13T03:33:36.932Z"
   },
   {
    "duration": 574,
    "start_time": "2023-04-13T03:33:37.006Z"
   },
   {
    "duration": 38,
    "start_time": "2023-04-13T03:33:37.582Z"
   },
   {
    "duration": 253,
    "start_time": "2023-04-13T03:33:37.621Z"
   },
   {
    "duration": 1076,
    "start_time": "2023-04-13T03:33:37.875Z"
   },
   {
    "duration": 580,
    "start_time": "2023-04-13T03:33:38.953Z"
   },
   {
    "duration": 104,
    "start_time": "2023-04-13T03:33:39.534Z"
   },
   {
    "duration": 563,
    "start_time": "2023-04-13T03:33:39.639Z"
   },
   {
    "duration": 32,
    "start_time": "2023-04-13T03:33:40.207Z"
   },
   {
    "duration": 277,
    "start_time": "2023-04-13T03:33:40.241Z"
   },
   {
    "duration": 1111,
    "start_time": "2023-04-13T03:33:40.519Z"
   },
   {
    "duration": 573,
    "start_time": "2023-04-13T03:33:41.632Z"
   },
   {
    "duration": 128,
    "start_time": "2023-04-13T03:33:42.207Z"
   },
   {
    "duration": 556,
    "start_time": "2023-04-13T03:33:42.337Z"
   },
   {
    "duration": 27,
    "start_time": "2023-04-13T03:33:42.902Z"
   },
   {
    "duration": 12,
    "start_time": "2023-04-13T03:33:42.931Z"
   },
   {
    "duration": 17,
    "start_time": "2023-04-13T03:33:42.946Z"
   },
   {
    "duration": 84,
    "start_time": "2023-04-13T03:33:42.965Z"
   },
   {
    "duration": 4,
    "start_time": "2023-04-13T03:33:43.051Z"
   },
   {
    "duration": 62,
    "start_time": "2023-04-13T03:33:43.056Z"
   },
   {
    "duration": 166,
    "start_time": "2023-04-13T03:33:43.120Z"
   },
   {
    "duration": 80,
    "start_time": "2023-04-13T03:33:43.292Z"
   },
   {
    "duration": 116,
    "start_time": "2023-04-13T03:33:43.374Z"
   },
   {
    "duration": 22,
    "start_time": "2023-04-13T03:33:43.492Z"
   },
   {
    "duration": 15,
    "start_time": "2023-04-13T03:33:43.515Z"
   },
   {
    "duration": 21,
    "start_time": "2023-04-13T03:33:43.531Z"
   },
   {
    "duration": 3700,
    "start_time": "2023-04-13T03:33:43.554Z"
   },
   {
    "duration": 4,
    "start_time": "2023-04-13T03:33:47.255Z"
   },
   {
    "duration": 42,
    "start_time": "2023-04-13T03:33:47.260Z"
   },
   {
    "duration": 9,
    "start_time": "2023-04-13T03:33:47.304Z"
   },
   {
    "duration": 12,
    "start_time": "2023-04-13T03:33:47.315Z"
   },
   {
    "duration": 3,
    "start_time": "2023-04-13T03:34:27.032Z"
   },
   {
    "duration": 438,
    "start_time": "2023-04-13T03:34:27.039Z"
   },
   {
    "duration": 29,
    "start_time": "2023-04-13T03:34:27.487Z"
   },
   {
    "duration": 39,
    "start_time": "2023-04-13T03:34:27.518Z"
   },
   {
    "duration": 129,
    "start_time": "2023-04-13T03:34:27.578Z"
   },
   {
    "duration": 17,
    "start_time": "2023-04-13T03:34:27.710Z"
   },
   {
    "duration": 65,
    "start_time": "2023-04-13T03:34:27.730Z"
   },
   {
    "duration": 296,
    "start_time": "2023-04-13T03:34:27.797Z"
   },
   {
    "duration": 1131,
    "start_time": "2023-04-13T03:34:28.095Z"
   },
   {
    "duration": 553,
    "start_time": "2023-04-13T03:34:29.228Z"
   },
   {
    "duration": 42,
    "start_time": "2023-04-13T03:34:29.783Z"
   },
   {
    "duration": 265,
    "start_time": "2023-04-13T03:34:29.827Z"
   },
   {
    "duration": 1142,
    "start_time": "2023-04-13T03:34:30.093Z"
   },
   {
    "duration": 645,
    "start_time": "2023-04-13T03:34:31.236Z"
   },
   {
    "duration": 40,
    "start_time": "2023-04-13T03:34:31.884Z"
   },
   {
    "duration": 278,
    "start_time": "2023-04-13T03:34:31.926Z"
   },
   {
    "duration": 1052,
    "start_time": "2023-04-13T03:34:32.206Z"
   },
   {
    "duration": 733,
    "start_time": "2023-04-13T03:34:33.260Z"
   },
   {
    "duration": 27,
    "start_time": "2023-04-13T03:34:33.995Z"
   },
   {
    "duration": 7,
    "start_time": "2023-04-13T03:34:34.024Z"
   },
   {
    "duration": 4,
    "start_time": "2023-04-13T03:34:34.033Z"
   },
   {
    "duration": 69,
    "start_time": "2023-04-13T03:34:34.038Z"
   },
   {
    "duration": 4,
    "start_time": "2023-04-13T03:34:34.109Z"
   },
   {
    "duration": 18,
    "start_time": "2023-04-13T03:34:34.114Z"
   },
   {
    "duration": 124,
    "start_time": "2023-04-13T03:34:34.184Z"
   },
   {
    "duration": 190,
    "start_time": "2023-04-13T03:34:34.310Z"
   },
   {
    "duration": 176,
    "start_time": "2023-04-13T03:34:34.505Z"
   },
   {
    "duration": 24,
    "start_time": "2023-04-13T03:34:34.683Z"
   },
   {
    "duration": 12,
    "start_time": "2023-04-13T03:34:34.708Z"
   },
   {
    "duration": 6,
    "start_time": "2023-04-13T03:34:34.722Z"
   },
   {
    "duration": 3653,
    "start_time": "2023-04-13T03:34:34.729Z"
   },
   {
    "duration": 5,
    "start_time": "2023-04-13T03:34:38.384Z"
   },
   {
    "duration": 49,
    "start_time": "2023-04-13T03:34:38.390Z"
   },
   {
    "duration": 5,
    "start_time": "2023-04-13T03:34:38.440Z"
   },
   {
    "duration": 10,
    "start_time": "2023-04-13T03:34:38.447Z"
   },
   {
    "duration": 287,
    "start_time": "2023-04-13T05:31:45.251Z"
   },
   {
    "duration": 268,
    "start_time": "2023-04-13T05:31:52.106Z"
   },
   {
    "duration": 376,
    "start_time": "2023-04-13T05:32:01.256Z"
   },
   {
    "duration": 361,
    "start_time": "2023-04-13T05:32:11.061Z"
   },
   {
    "duration": 347,
    "start_time": "2023-04-13T05:32:19.166Z"
   },
   {
    "duration": 43,
    "start_time": "2023-04-13T05:46:13.565Z"
   },
   {
    "duration": 292,
    "start_time": "2023-04-13T05:47:14.969Z"
   },
   {
    "duration": 335,
    "start_time": "2023-04-13T05:48:02.396Z"
   },
   {
    "duration": 552,
    "start_time": "2023-04-13T05:48:11.753Z"
   },
   {
    "duration": 41,
    "start_time": "2023-04-13T05:48:17.394Z"
   },
   {
    "duration": 393,
    "start_time": "2023-04-13T05:48:21.424Z"
   },
   {
    "duration": 642,
    "start_time": "2023-04-13T05:48:26.701Z"
   },
   {
    "duration": 1428,
    "start_time": "2023-04-13T05:51:58.300Z"
   },
   {
    "duration": 378,
    "start_time": "2023-04-13T05:51:59.730Z"
   },
   {
    "duration": 23,
    "start_time": "2023-04-13T05:52:00.110Z"
   },
   {
    "duration": 71,
    "start_time": "2023-04-13T05:52:00.135Z"
   },
   {
    "duration": 143,
    "start_time": "2023-04-13T05:52:00.208Z"
   },
   {
    "duration": 21,
    "start_time": "2023-04-13T05:52:00.352Z"
   },
   {
    "duration": 96,
    "start_time": "2023-04-13T05:52:00.375Z"
   },
   {
    "duration": 302,
    "start_time": "2023-04-13T05:52:00.475Z"
   },
   {
    "duration": 467,
    "start_time": "2023-04-13T05:52:00.784Z"
   },
   {
    "duration": 48,
    "start_time": "2023-04-13T05:52:01.253Z"
   },
   {
    "duration": 277,
    "start_time": "2023-04-13T05:52:01.303Z"
   },
   {
    "duration": 622,
    "start_time": "2023-04-13T05:52:01.582Z"
   },
   {
    "duration": 33,
    "start_time": "2023-04-13T05:52:02.205Z"
   },
   {
    "duration": 311,
    "start_time": "2023-04-13T05:52:02.240Z"
   },
   {
    "duration": 596,
    "start_time": "2023-04-13T05:52:02.552Z"
   },
   {
    "duration": 39,
    "start_time": "2023-04-13T05:52:03.150Z"
   },
   {
    "duration": 6,
    "start_time": "2023-04-13T05:52:03.191Z"
   },
   {
    "duration": 13,
    "start_time": "2023-04-13T05:52:03.198Z"
   },
   {
    "duration": 70,
    "start_time": "2023-04-13T05:52:03.212Z"
   },
   {
    "duration": 5,
    "start_time": "2023-04-13T05:52:03.283Z"
   },
   {
    "duration": 37,
    "start_time": "2023-04-13T05:52:03.290Z"
   },
   {
    "duration": 180,
    "start_time": "2023-04-13T05:52:03.329Z"
   },
   {
    "duration": 180,
    "start_time": "2023-04-13T05:52:03.511Z"
   },
   {
    "duration": 118,
    "start_time": "2023-04-13T05:52:03.694Z"
   },
   {
    "duration": 18,
    "start_time": "2023-04-13T05:52:03.873Z"
   },
   {
    "duration": 13,
    "start_time": "2023-04-13T05:52:03.893Z"
   },
   {
    "duration": 17,
    "start_time": "2023-04-13T05:52:03.907Z"
   },
   {
    "duration": 3674,
    "start_time": "2023-04-13T05:52:03.927Z"
   },
   {
    "duration": 3,
    "start_time": "2023-04-13T05:52:07.603Z"
   },
   {
    "duration": 8,
    "start_time": "2023-04-13T05:52:07.608Z"
   },
   {
    "duration": 12,
    "start_time": "2023-04-13T05:52:07.617Z"
   },
   {
    "duration": 14,
    "start_time": "2023-04-13T05:52:07.630Z"
   },
   {
    "duration": 398,
    "start_time": "2023-04-13T06:13:02.017Z"
   },
   {
    "duration": 1763,
    "start_time": "2023-04-13T06:13:12.007Z"
   },
   {
    "duration": 371,
    "start_time": "2023-04-13T06:13:13.778Z"
   },
   {
    "duration": 32,
    "start_time": "2023-04-13T06:13:14.150Z"
   },
   {
    "duration": 54,
    "start_time": "2023-04-13T06:13:14.186Z"
   },
   {
    "duration": 152,
    "start_time": "2023-04-13T06:13:14.241Z"
   },
   {
    "duration": 20,
    "start_time": "2023-04-13T06:13:14.394Z"
   },
   {
    "duration": 92,
    "start_time": "2023-04-13T06:13:14.416Z"
   },
   {
    "duration": 490,
    "start_time": "2023-04-13T06:13:14.511Z"
   },
   {
    "duration": 1015,
    "start_time": "2023-04-13T06:13:15.002Z"
   },
   {
    "duration": 112,
    "start_time": "2023-04-13T06:13:16.071Z"
   },
   {
    "duration": 338,
    "start_time": "2023-04-13T06:13:16.184Z"
   },
   {
    "duration": 615,
    "start_time": "2023-04-13T06:13:16.523Z"
   },
   {
    "duration": 57,
    "start_time": "2023-04-13T06:13:17.140Z"
   },
   {
    "duration": 250,
    "start_time": "2023-04-13T06:13:17.203Z"
   },
   {
    "duration": 568,
    "start_time": "2023-04-13T06:13:17.454Z"
   },
   {
    "duration": 23,
    "start_time": "2023-04-13T06:13:18.024Z"
   },
   {
    "duration": 5,
    "start_time": "2023-04-13T06:13:18.049Z"
   },
   {
    "duration": 48,
    "start_time": "2023-04-13T06:13:18.056Z"
   },
   {
    "duration": 47,
    "start_time": "2023-04-13T06:13:18.106Z"
   },
   {
    "duration": 4,
    "start_time": "2023-04-13T06:13:18.155Z"
   },
   {
    "duration": 19,
    "start_time": "2023-04-13T06:13:18.160Z"
   },
   {
    "duration": 23,
    "start_time": "2023-04-13T06:13:18.180Z"
   },
   {
    "duration": 183,
    "start_time": "2023-04-13T06:13:18.205Z"
   },
   {
    "duration": 222,
    "start_time": "2023-04-13T06:13:18.394Z"
   },
   {
    "duration": 10,
    "start_time": "2023-04-13T06:13:18.618Z"
   },
   {
    "duration": 9,
    "start_time": "2023-04-13T06:13:18.630Z"
   },
   {
    "duration": 5,
    "start_time": "2023-04-13T06:13:18.640Z"
   },
   {
    "duration": 3417,
    "start_time": "2023-04-13T06:13:18.648Z"
   },
   {
    "duration": 8,
    "start_time": "2023-04-13T06:13:22.066Z"
   },
   {
    "duration": 43,
    "start_time": "2023-04-13T06:13:22.082Z"
   },
   {
    "duration": 22,
    "start_time": "2023-04-13T06:13:22.126Z"
   },
   {
    "duration": 11,
    "start_time": "2023-04-13T06:13:22.150Z"
   },
   {
    "duration": 4008,
    "start_time": "2023-04-14T05:48:13.273Z"
   },
   {
    "duration": 2693,
    "start_time": "2023-04-14T05:48:17.283Z"
   },
   {
    "duration": 60,
    "start_time": "2023-04-14T05:48:19.978Z"
   },
   {
    "duration": 83,
    "start_time": "2023-04-14T05:48:20.040Z"
   },
   {
    "duration": 210,
    "start_time": "2023-04-14T05:48:20.126Z"
   },
   {
    "duration": 24,
    "start_time": "2023-04-14T05:48:20.340Z"
   },
   {
    "duration": 71,
    "start_time": "2023-04-14T05:48:20.366Z"
   },
   {
    "duration": 409,
    "start_time": "2023-04-14T05:48:20.439Z"
   },
   {
    "duration": 687,
    "start_time": "2023-04-14T05:48:20.850Z"
   },
   {
    "duration": 39,
    "start_time": "2023-04-14T05:48:21.539Z"
   },
   {
    "duration": 377,
    "start_time": "2023-04-14T05:48:21.580Z"
   },
   {
    "duration": 826,
    "start_time": "2023-04-14T05:48:21.959Z"
   },
   {
    "duration": 56,
    "start_time": "2023-04-14T05:48:22.787Z"
   },
   {
    "duration": 308,
    "start_time": "2023-04-14T05:48:22.846Z"
   },
   {
    "duration": 785,
    "start_time": "2023-04-14T05:48:23.156Z"
   },
   {
    "duration": 32,
    "start_time": "2023-04-14T05:48:23.943Z"
   },
   {
    "duration": 21,
    "start_time": "2023-04-14T05:48:23.978Z"
   },
   {
    "duration": 42,
    "start_time": "2023-04-14T05:48:24.002Z"
   },
   {
    "duration": 74,
    "start_time": "2023-04-14T05:48:24.047Z"
   },
   {
    "duration": 5,
    "start_time": "2023-04-14T05:48:24.123Z"
   },
   {
    "duration": 179,
    "start_time": "2023-04-14T05:48:24.130Z"
   },
   {
    "duration": 93,
    "start_time": "2023-04-14T05:48:24.319Z"
   },
   {
    "duration": 162,
    "start_time": "2023-04-14T05:48:24.426Z"
   },
   {
    "duration": 116,
    "start_time": "2023-04-14T05:48:24.607Z"
   },
   {
    "duration": 15,
    "start_time": "2023-04-14T05:48:24.731Z"
   },
   {
    "duration": 12,
    "start_time": "2023-04-14T05:48:24.748Z"
   },
   {
    "duration": 17,
    "start_time": "2023-04-14T05:48:24.762Z"
   },
   {
    "duration": 5284,
    "start_time": "2023-04-14T05:48:24.780Z"
   },
   {
    "duration": 4,
    "start_time": "2023-04-14T05:48:30.066Z"
   },
   {
    "duration": 67,
    "start_time": "2023-04-14T05:48:30.072Z"
   },
   {
    "duration": 16,
    "start_time": "2023-04-14T05:48:30.141Z"
   },
   {
    "duration": 32,
    "start_time": "2023-04-14T05:48:30.158Z"
   },
   {
    "duration": 2225,
    "start_time": "2023-07-19T07:05:17.509Z"
   },
   {
    "duration": 828,
    "start_time": "2023-07-19T07:05:19.736Z"
   },
   {
    "duration": 31,
    "start_time": "2023-07-19T07:05:20.566Z"
   },
   {
    "duration": 69,
    "start_time": "2023-07-19T07:05:20.599Z"
   },
   {
    "duration": 132,
    "start_time": "2023-07-19T07:05:20.669Z"
   },
   {
    "duration": 15,
    "start_time": "2023-07-19T07:05:20.803Z"
   },
   {
    "duration": 78,
    "start_time": "2023-07-19T07:05:20.819Z"
   },
   {
    "duration": 345,
    "start_time": "2023-07-19T07:05:20.899Z"
   },
   {
    "duration": 408,
    "start_time": "2023-07-19T07:05:21.246Z"
   },
   {
    "duration": 33,
    "start_time": "2023-07-19T07:05:21.656Z"
   },
   {
    "duration": 300,
    "start_time": "2023-07-19T07:05:21.691Z"
   },
   {
    "duration": 564,
    "start_time": "2023-07-19T07:05:21.993Z"
   },
   {
    "duration": 33,
    "start_time": "2023-07-19T07:05:22.559Z"
   },
   {
    "duration": 325,
    "start_time": "2023-07-19T07:05:22.594Z"
   },
   {
    "duration": 532,
    "start_time": "2023-07-19T07:05:22.920Z"
   },
   {
    "duration": 26,
    "start_time": "2023-07-19T07:05:23.454Z"
   },
   {
    "duration": 9,
    "start_time": "2023-07-19T07:05:23.482Z"
   },
   {
    "duration": 12,
    "start_time": "2023-07-19T07:05:23.492Z"
   },
   {
    "duration": 58,
    "start_time": "2023-07-19T07:05:23.505Z"
   },
   {
    "duration": 3,
    "start_time": "2023-07-19T07:05:23.565Z"
   },
   {
    "duration": 167,
    "start_time": "2023-07-19T07:05:23.570Z"
   },
   {
    "duration": 198,
    "start_time": "2023-07-19T07:05:23.741Z"
   },
   {
    "duration": 100,
    "start_time": "2023-07-19T07:05:23.942Z"
   },
   {
    "duration": 196,
    "start_time": "2023-07-19T07:05:24.045Z"
   },
   {
    "duration": 22,
    "start_time": "2023-07-19T07:05:24.242Z"
   },
   {
    "duration": 24,
    "start_time": "2023-07-19T07:05:24.266Z"
   },
   {
    "duration": 21,
    "start_time": "2023-07-19T07:05:24.292Z"
   },
   {
    "duration": 3877,
    "start_time": "2023-07-19T07:05:24.315Z"
   },
   {
    "duration": 5,
    "start_time": "2023-07-19T07:05:28.194Z"
   },
   {
    "duration": 210,
    "start_time": "2023-07-19T07:06:12.646Z"
   },
   {
    "duration": 1480,
    "start_time": "2023-07-19T07:06:24.706Z"
   },
   {
    "duration": 314,
    "start_time": "2023-07-19T07:06:29.566Z"
   },
   {
    "duration": 264,
    "start_time": "2023-07-19T07:06:43.867Z"
   },
   {
    "duration": 270,
    "start_time": "2023-07-19T07:06:47.941Z"
   },
   {
    "duration": 441,
    "start_time": "2023-07-19T07:06:51.756Z"
   },
   {
    "duration": 303,
    "start_time": "2023-07-19T07:08:51.891Z"
   },
   {
    "duration": 600,
    "start_time": "2023-07-19T07:09:17.692Z"
   },
   {
    "duration": 825,
    "start_time": "2023-07-19T07:09:23.988Z"
   },
   {
    "duration": 3,
    "start_time": "2023-07-19T07:09:44.147Z"
   },
   {
    "duration": 357,
    "start_time": "2023-07-19T07:09:44.158Z"
   },
   {
    "duration": 29,
    "start_time": "2023-07-19T07:09:44.517Z"
   },
   {
    "duration": 38,
    "start_time": "2023-07-19T07:09:44.548Z"
   },
   {
    "duration": 148,
    "start_time": "2023-07-19T07:09:44.587Z"
   },
   {
    "duration": 23,
    "start_time": "2023-07-19T07:09:44.738Z"
   },
   {
    "duration": 48,
    "start_time": "2023-07-19T07:09:44.763Z"
   },
   {
    "duration": 334,
    "start_time": "2023-07-19T07:09:44.812Z"
   },
   {
    "duration": 572,
    "start_time": "2023-07-19T07:09:45.147Z"
   },
   {
    "duration": 44,
    "start_time": "2023-07-19T07:09:45.721Z"
   },
   {
    "duration": 248,
    "start_time": "2023-07-19T07:09:45.767Z"
   },
   {
    "duration": 519,
    "start_time": "2023-07-19T07:09:46.016Z"
   },
   {
    "duration": 35,
    "start_time": "2023-07-19T07:09:46.537Z"
   },
   {
    "duration": 258,
    "start_time": "2023-07-19T07:09:46.573Z"
   },
   {
    "duration": 643,
    "start_time": "2023-07-19T07:09:46.835Z"
   },
   {
    "duration": 24,
    "start_time": "2023-07-19T07:09:47.479Z"
   },
   {
    "duration": 15,
    "start_time": "2023-07-19T07:09:47.504Z"
   },
   {
    "duration": 17,
    "start_time": "2023-07-19T07:09:47.521Z"
   },
   {
    "duration": 57,
    "start_time": "2023-07-19T07:09:47.540Z"
   },
   {
    "duration": 4,
    "start_time": "2023-07-19T07:09:47.599Z"
   },
   {
    "duration": 39,
    "start_time": "2023-07-19T07:09:47.604Z"
   },
   {
    "duration": 201,
    "start_time": "2023-07-19T07:09:47.645Z"
   },
   {
    "duration": 192,
    "start_time": "2023-07-19T07:09:47.852Z"
   },
   {
    "duration": 186,
    "start_time": "2023-07-19T07:09:48.046Z"
   },
   {
    "duration": 14,
    "start_time": "2023-07-19T07:09:48.234Z"
   },
   {
    "duration": 24,
    "start_time": "2023-07-19T07:09:48.250Z"
   },
   {
    "duration": 14,
    "start_time": "2023-07-19T07:09:48.276Z"
   },
   {
    "duration": 3874,
    "start_time": "2023-07-19T07:09:48.291Z"
   },
   {
    "duration": 713,
    "start_time": "2023-07-19T07:09:52.167Z"
   },
   {
    "duration": 365,
    "start_time": "2023-07-19T07:10:03.701Z"
   },
   {
    "duration": 308,
    "start_time": "2023-07-19T07:10:13.747Z"
   },
   {
    "duration": 202,
    "start_time": "2023-07-19T07:10:24.018Z"
   },
   {
    "duration": 424,
    "start_time": "2023-07-19T07:10:34.592Z"
   },
   {
    "duration": 4,
    "start_time": "2023-07-19T07:13:17.852Z"
   },
   {
    "duration": 10,
    "start_time": "2023-07-19T07:13:18.451Z"
   },
   {
    "duration": 388,
    "start_time": "2023-07-19T07:21:02.448Z"
   },
   {
    "duration": 332,
    "start_time": "2023-07-19T07:21:13.264Z"
   },
   {
    "duration": 354,
    "start_time": "2023-07-19T07:21:28.222Z"
   },
   {
    "duration": 456,
    "start_time": "2023-07-19T07:21:34.771Z"
   },
   {
    "duration": 326,
    "start_time": "2023-07-19T07:22:24.452Z"
   },
   {
    "duration": 10764,
    "start_time": "2023-07-19T07:23:00.358Z"
   },
   {
    "duration": 204,
    "start_time": "2023-07-19T07:24:35.157Z"
   },
   {
    "duration": 5,
    "start_time": "2023-07-19T07:25:11.369Z"
   },
   {
    "duration": 328,
    "start_time": "2023-07-19T07:25:17.353Z"
   },
   {
    "duration": 341,
    "start_time": "2023-07-19T07:25:29.977Z"
   },
   {
    "duration": 364,
    "start_time": "2023-07-19T07:25:39.869Z"
   },
   {
    "duration": 332,
    "start_time": "2023-07-19T07:26:48.689Z"
   },
   {
    "duration": 345,
    "start_time": "2023-07-19T07:27:25.421Z"
   },
   {
    "duration": 335,
    "start_time": "2023-07-19T07:27:30.208Z"
   },
   {
    "duration": 325,
    "start_time": "2023-07-19T07:27:52.693Z"
   },
   {
    "duration": 327,
    "start_time": "2023-07-19T07:28:26.402Z"
   },
   {
    "duration": 338,
    "start_time": "2023-07-19T07:28:31.343Z"
   },
   {
    "duration": 347,
    "start_time": "2023-07-19T07:29:02.949Z"
   },
   {
    "duration": 367,
    "start_time": "2023-07-19T07:29:08.838Z"
   },
   {
    "duration": 338,
    "start_time": "2023-07-19T07:29:13.170Z"
   },
   {
    "duration": 329,
    "start_time": "2023-07-19T07:29:16.769Z"
   },
   {
    "duration": 333,
    "start_time": "2023-07-19T07:29:20.716Z"
   },
   {
    "duration": 327,
    "start_time": "2023-07-19T07:29:23.643Z"
   },
   {
    "duration": 1624,
    "start_time": "2023-07-19T07:29:40.651Z"
   },
   {
    "duration": 343,
    "start_time": "2023-07-19T07:29:48.323Z"
   },
   {
    "duration": 338,
    "start_time": "2023-07-19T07:31:21.824Z"
   },
   {
    "duration": 352,
    "start_time": "2023-07-19T07:32:10.080Z"
   },
   {
    "duration": 381,
    "start_time": "2023-07-19T07:32:34.450Z"
   },
   {
    "duration": 790,
    "start_time": "2023-07-19T07:33:30.573Z"
   },
   {
    "duration": 972,
    "start_time": "2023-07-19T07:34:18.050Z"
   },
   {
    "duration": 4,
    "start_time": "2023-07-19T07:35:03.419Z"
   },
   {
    "duration": 396,
    "start_time": "2023-07-19T07:35:03.428Z"
   },
   {
    "duration": 30,
    "start_time": "2023-07-19T07:35:03.826Z"
   },
   {
    "duration": 38,
    "start_time": "2023-07-19T07:35:03.858Z"
   },
   {
    "duration": 150,
    "start_time": "2023-07-19T07:35:03.898Z"
   },
   {
    "duration": 10,
    "start_time": "2023-07-19T07:35:04.050Z"
   },
   {
    "duration": 212,
    "start_time": "2023-07-19T07:35:04.062Z"
   },
   {
    "duration": 346,
    "start_time": "2023-07-19T07:35:04.276Z"
   },
   {
    "duration": 754,
    "start_time": "2023-07-19T07:35:04.624Z"
   },
   {
    "duration": 33,
    "start_time": "2023-07-19T07:35:05.379Z"
   },
   {
    "duration": 302,
    "start_time": "2023-07-19T07:35:05.414Z"
   },
   {
    "duration": 597,
    "start_time": "2023-07-19T07:35:05.718Z"
   },
   {
    "duration": 49,
    "start_time": "2023-07-19T07:35:06.316Z"
   },
   {
    "duration": 299,
    "start_time": "2023-07-19T07:35:06.367Z"
   },
   {
    "duration": 593,
    "start_time": "2023-07-19T07:35:06.668Z"
   },
   {
    "duration": 27,
    "start_time": "2023-07-19T07:35:07.262Z"
   },
   {
    "duration": 7,
    "start_time": "2023-07-19T07:35:07.291Z"
   },
   {
    "duration": 11,
    "start_time": "2023-07-19T07:35:07.300Z"
   },
   {
    "duration": 61,
    "start_time": "2023-07-19T07:35:07.312Z"
   },
   {
    "duration": 4,
    "start_time": "2023-07-19T07:35:07.375Z"
   },
   {
    "duration": 51,
    "start_time": "2023-07-19T07:35:07.381Z"
   },
   {
    "duration": 126,
    "start_time": "2023-07-19T07:35:07.434Z"
   },
   {
    "duration": 92,
    "start_time": "2023-07-19T07:35:07.562Z"
   },
   {
    "duration": 141,
    "start_time": "2023-07-19T07:35:07.737Z"
   },
   {
    "duration": 16,
    "start_time": "2023-07-19T07:35:07.880Z"
   },
   {
    "duration": 23,
    "start_time": "2023-07-19T07:35:07.898Z"
   },
   {
    "duration": 7,
    "start_time": "2023-07-19T07:35:07.924Z"
   },
   {
    "duration": 3981,
    "start_time": "2023-07-19T07:35:07.933Z"
   },
   {
    "duration": 3,
    "start_time": "2023-07-19T07:35:11.916Z"
   },
   {
    "duration": 27,
    "start_time": "2023-07-19T07:35:11.920Z"
   },
   {
    "duration": 1056,
    "start_time": "2023-07-19T07:35:11.948Z"
   },
   {
    "duration": 5,
    "start_time": "2023-07-19T07:35:13.006Z"
   },
   {
    "duration": 9,
    "start_time": "2023-07-19T07:40:53.730Z"
   },
   {
    "duration": 4105,
    "start_time": "2023-07-19T07:41:07.658Z"
   },
   {
    "duration": 4087,
    "start_time": "2023-07-19T07:41:13.644Z"
   },
   {
    "duration": 7,
    "start_time": "2023-07-19T07:41:17.734Z"
   },
   {
    "duration": 124,
    "start_time": "2023-07-19T07:41:17.743Z"
   },
   {
    "duration": 1036,
    "start_time": "2023-07-19T07:41:17.869Z"
   },
   {
    "duration": 4,
    "start_time": "2023-07-19T07:41:21.060Z"
   },
   {
    "duration": 11,
    "start_time": "2023-07-19T07:41:27.384Z"
   },
   {
    "duration": 17,
    "start_time": "2023-07-19T07:42:07.627Z"
   },
   {
    "duration": 4075,
    "start_time": "2023-07-19T07:42:09.608Z"
   },
   {
    "duration": 3,
    "start_time": "2023-07-19T07:42:13.685Z"
   },
   {
    "duration": 15,
    "start_time": "2023-07-19T07:42:13.690Z"
   },
   {
    "duration": 1170,
    "start_time": "2023-07-19T07:42:13.707Z"
   },
   {
    "duration": 4,
    "start_time": "2023-07-19T07:42:14.878Z"
   },
   {
    "duration": 48,
    "start_time": "2023-07-19T07:42:14.883Z"
   },
   {
    "duration": 6,
    "start_time": "2023-07-19T08:10:47.597Z"
   },
   {
    "duration": 11,
    "start_time": "2023-07-19T08:11:02.440Z"
   },
   {
    "duration": 8,
    "start_time": "2023-07-19T08:11:30.697Z"
   },
   {
    "duration": 7,
    "start_time": "2023-07-19T08:11:35.474Z"
   },
   {
    "duration": 6,
    "start_time": "2023-07-19T08:12:08.488Z"
   },
   {
    "duration": 6,
    "start_time": "2023-07-19T08:12:34.492Z"
   },
   {
    "duration": 8,
    "start_time": "2023-07-19T08:12:38.392Z"
   },
   {
    "duration": 6,
    "start_time": "2023-07-19T08:12:42.085Z"
   },
   {
    "duration": 5,
    "start_time": "2023-07-19T08:37:06.948Z"
   },
   {
    "duration": 9592,
    "start_time": "2023-07-19T08:37:09.044Z"
   },
   {
    "duration": 6,
    "start_time": "2023-07-19T08:37:18.639Z"
   },
   {
    "duration": 12,
    "start_time": "2023-07-19T08:37:18.647Z"
   },
   {
    "duration": 2302,
    "start_time": "2023-07-19T08:37:18.661Z"
   },
   {
    "duration": 4,
    "start_time": "2023-07-19T08:37:20.964Z"
   },
   {
    "duration": 68,
    "start_time": "2023-07-19T08:37:20.970Z"
   },
   {
    "duration": 5,
    "start_time": "2023-07-19T08:37:52.606Z"
   },
   {
    "duration": 9821,
    "start_time": "2023-07-19T08:37:53.128Z"
   },
   {
    "duration": 4,
    "start_time": "2023-07-19T08:38:02.951Z"
   },
   {
    "duration": 104,
    "start_time": "2023-07-19T08:38:02.956Z"
   },
   {
    "duration": 2680,
    "start_time": "2023-07-19T08:38:03.062Z"
   },
   {
    "duration": 5,
    "start_time": "2023-07-19T08:38:05.744Z"
   },
   {
    "duration": 91,
    "start_time": "2023-07-19T08:38:05.751Z"
   },
   {
    "duration": 7,
    "start_time": "2023-07-19T09:02:27.801Z"
   },
   {
    "duration": 17,
    "start_time": "2023-07-19T09:03:14.215Z"
   },
   {
    "duration": 17,
    "start_time": "2023-07-19T09:03:20.022Z"
   },
   {
    "duration": 5,
    "start_time": "2023-07-19T09:03:27.468Z"
   },
   {
    "duration": 5,
    "start_time": "2023-07-19T09:04:01.849Z"
   },
   {
    "duration": 5,
    "start_time": "2023-07-19T09:04:43.268Z"
   },
   {
    "duration": 8,
    "start_time": "2023-07-19T09:04:58.042Z"
   }
  ],
  "kernelspec": {
   "display_name": "Python 3 (ipykernel)",
   "language": "python",
   "name": "python3"
  },
  "language_info": {
   "codemirror_mode": {
    "name": "ipython",
    "version": 3
   },
   "file_extension": ".py",
   "mimetype": "text/x-python",
   "name": "python",
   "nbconvert_exporter": "python",
   "pygments_lexer": "ipython3",
   "version": "3.11.3"
  },
  "toc": {
   "base_numbering": 1,
   "nav_menu": {
    "height": "318px",
    "width": "285px"
   },
   "number_sections": true,
   "sideBar": true,
   "skip_h1_title": true,
   "title_cell": "Содержание",
   "title_sidebar": "Содержание",
   "toc_cell": true,
   "toc_position": {
    "height": "calc(100% - 180px)",
    "left": "10px",
    "top": "150px",
    "width": "343.188px"
   },
   "toc_section_display": true,
   "toc_window_display": false
  }
 },
 "nbformat": 4,
 "nbformat_minor": 4
}
